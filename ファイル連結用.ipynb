{
  "nbformat": 4,
  "nbformat_minor": 0,
  "metadata": {
    "colab": {
      "name": "ファイル連結用.ipynb",
      "provenance": [],
      "mount_file_id": "1hdNeLFcM3ZXT4tZ2xvyhrwhMudZdztfR",
      "authorship_tag": "ABX9TyP/EnIbj77wayFHz+BKUudM",
      "include_colab_link": true
    },
    "kernelspec": {
      "name": "python3",
      "display_name": "Python 3"
    },
    "language_info": {
      "name": "python"
    }
  },
  "cells": [
    {
      "cell_type": "markdown",
      "metadata": {
        "id": "view-in-github",
        "colab_type": "text"
      },
      "source": [
        "<a href=\"https://colab.research.google.com/github/Charee-Villapong/charee-villapong/blob/master/%E3%83%95%E3%82%A1%E3%82%A4%E3%83%AB%E9%80%A3%E7%B5%90%E7%94%A8.ipynb\" target=\"_parent\"><img src=\"https://colab.research.google.com/assets/colab-badge.svg\" alt=\"Open In Colab\"/></a>"
      ]
    },
    {
      "cell_type": "code",
      "metadata": {
        "id": "sqQYqfP3e3BJ"
      },
      "source": [
        "import glob\n",
        "import pandas as pd"
      ],
      "execution_count": 27,
      "outputs": []
    },
    {
      "cell_type": "code",
      "metadata": {
        "colab": {
          "base_uri": "https://localhost:8080/"
        },
        "id": "HEnf-Crxe9Yb",
        "outputId": "f2add14f-7256-43b2-f9cf-271d6a28bd39"
      },
      "source": [
        "from google.colab import drive\n",
        "drive.mount('/content/drive')"
      ],
      "execution_count": 28,
      "outputs": [
        {
          "output_type": "stream",
          "name": "stdout",
          "text": [
            "Drive already mounted at /content/drive; to attempt to forcibly remount, call drive.mount(\"/content/drive\", force_remount=True).\n"
          ]
        }
      ]
    },
    {
      "cell_type": "code",
      "metadata": {
        "id": "gEwHOwp5fECp"
      },
      "source": [
        "files = glob.glob(\"/content/drive/MyDrive/minne売上詳細データ/*.csv\")"
      ],
      "execution_count": 29,
      "outputs": []
    },
    {
      "cell_type": "code",
      "metadata": {
        "colab": {
          "base_uri": "https://localhost:8080/"
        },
        "id": "RaBhOSZ4f8zx",
        "outputId": "66375979-5d77-4f05-f491-1cb09acdb877"
      },
      "source": [
        "for file in files:\n",
        "    print(i)"
      ],
      "execution_count": 30,
      "outputs": [
        {
          "output_type": "stream",
          "name": "stdout",
          "text": [
            "/content/drive/MyDrive/minne売上詳細データ/orders_2021_06.csv\n",
            "/content/drive/MyDrive/minne売上詳細データ/orders_2021_06.csv\n",
            "/content/drive/MyDrive/minne売上詳細データ/orders_2021_06.csv\n",
            "/content/drive/MyDrive/minne売上詳細データ/orders_2021_06.csv\n",
            "/content/drive/MyDrive/minne売上詳細データ/orders_2021_06.csv\n",
            "/content/drive/MyDrive/minne売上詳細データ/orders_2021_06.csv\n",
            "/content/drive/MyDrive/minne売上詳細データ/orders_2021_06.csv\n",
            "/content/drive/MyDrive/minne売上詳細データ/orders_2021_06.csv\n",
            "/content/drive/MyDrive/minne売上詳細データ/orders_2021_06.csv\n",
            "/content/drive/MyDrive/minne売上詳細データ/orders_2021_06.csv\n",
            "/content/drive/MyDrive/minne売上詳細データ/orders_2021_06.csv\n",
            "/content/drive/MyDrive/minne売上詳細データ/orders_2021_06.csv\n",
            "/content/drive/MyDrive/minne売上詳細データ/orders_2021_06.csv\n",
            "/content/drive/MyDrive/minne売上詳細データ/orders_2021_06.csv\n",
            "/content/drive/MyDrive/minne売上詳細データ/orders_2021_06.csv\n",
            "/content/drive/MyDrive/minne売上詳細データ/orders_2021_06.csv\n",
            "/content/drive/MyDrive/minne売上詳細データ/orders_2021_06.csv\n",
            "/content/drive/MyDrive/minne売上詳細データ/orders_2021_06.csv\n",
            "/content/drive/MyDrive/minne売上詳細データ/orders_2021_06.csv\n",
            "/content/drive/MyDrive/minne売上詳細データ/orders_2021_06.csv\n",
            "/content/drive/MyDrive/minne売上詳細データ/orders_2021_06.csv\n",
            "/content/drive/MyDrive/minne売上詳細データ/orders_2021_06.csv\n"
          ]
        }
      ]
    },
    {
      "cell_type": "code",
      "metadata": {
        "id": "N4cu3rpQgJe7"
      },
      "source": [
        "#data =  [files.append(pd.read_csv(file)) for file in files]"
      ],
      "execution_count": 31,
      "outputs": []
    },
    {
      "cell_type": "code",
      "metadata": {
        "id": "Yglu9iUYg4f9"
      },
      "source": [
        "data_list = []\n",
        "for file in files:\n",
        "    data_list.append(pd.read_csv(file))"
      ],
      "execution_count": 32,
      "outputs": []
    },
    {
      "cell_type": "code",
      "metadata": {
        "colab": {
          "base_uri": "https://localhost:8080/",
          "height": 185
        },
        "id": "rBobDXc7hTZv",
        "outputId": "5a1b79e4-dbea-4edc-ad3e-02214eeca85b"
      },
      "source": [
        "df = pd.merge(data_list)\n",
        "df.shape\n"
      ],
      "execution_count": 45,
      "outputs": [
        {
          "output_type": "error",
          "ename": "TypeError",
          "evalue": "ignored",
          "traceback": [
            "\u001b[0;31m---------------------------------------------------------------------------\u001b[0m",
            "\u001b[0;31mTypeError\u001b[0m                                 Traceback (most recent call last)",
            "\u001b[0;32m<ipython-input-45-16f67859f6a9>\u001b[0m in \u001b[0;36m<module>\u001b[0;34m()\u001b[0m\n\u001b[0;32m----> 1\u001b[0;31m \u001b[0mdf\u001b[0m \u001b[0;34m=\u001b[0m \u001b[0mpd\u001b[0m\u001b[0;34m.\u001b[0m\u001b[0mmerge\u001b[0m\u001b[0;34m(\u001b[0m\u001b[0mdata_list\u001b[0m\u001b[0;34m)\u001b[0m\u001b[0;34m\u001b[0m\u001b[0;34m\u001b[0m\u001b[0m\n\u001b[0m\u001b[1;32m      2\u001b[0m \u001b[0mdf\u001b[0m\u001b[0;34m.\u001b[0m\u001b[0mshape\u001b[0m\u001b[0;34m\u001b[0m\u001b[0;34m\u001b[0m\u001b[0m\n",
            "\u001b[0;31mTypeError\u001b[0m: merge() missing 1 required positional argument: 'right'"
          ]
        }
      ]
    },
    {
      "cell_type": "code",
      "metadata": {
        "id": "ZXdW-FAwhgeE"
      },
      "source": [
        "df.to_csv('売上concat.csv', index=False)"
      ],
      "execution_count": 43,
      "outputs": []
    },
    {
      "cell_type": "code",
      "metadata": {
        "id": "X_P-LJrciLeX"
      },
      "source": [
        ""
      ],
      "execution_count": null,
      "outputs": []
    }
  ]
}