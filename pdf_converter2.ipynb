{
  "nbformat": 4,
  "nbformat_minor": 0,
  "metadata": {
    "colab": {
      "name": "pdf_converter2.ipynb",
      "provenance": [],
      "collapsed_sections": [],
      "mount_file_id": "1A5Pva0_2823vrve1p1p4s10DX5mrdRfw",
      "authorship_tag": "ABX9TyPUQxZFQYzLQPNK9ZGSZZvF",
      "include_colab_link": true
    },
    "kernelspec": {
      "name": "python3",
      "display_name": "Python 3"
    },
    "language_info": {
      "name": "python"
    }
  },
  "cells": [
    {
      "cell_type": "markdown",
      "metadata": {
        "id": "view-in-github",
        "colab_type": "text"
      },
      "source": [
        "<a href=\"https://colab.research.google.com/github/Charee-Villapong/charee-villapong/blob/master/pdf_converter2.ipynb\" target=\"_parent\"><img src=\"https://colab.research.google.com/assets/colab-badge.svg\" alt=\"Open In Colab\"/></a>"
      ]
    },
    {
      "cell_type": "code",
      "metadata": {
        "colab": {
          "base_uri": "https://localhost:8080/"
        },
        "id": "nIaNbGBk-y4S",
        "outputId": "3fb17beb-cac7-4076-e28e-0439f9363fc3"
      },
      "source": [
        "!pip install -q tabula-py\n",
        "import tabula"
      ],
      "execution_count": 3,
      "outputs": [
        {
          "output_type": "stream",
          "name": "stdout",
          "text": [
            "\u001b[K     |████████████████████████████████| 12.0 MB 4.8 MB/s \n",
            "\u001b[?25h"
          ]
        }
      ]
    },
    {
      "cell_type": "code",
      "metadata": {
        "colab": {
          "base_uri": "https://localhost:8080/"
        },
        "id": "yIupFqXV_Axr",
        "outputId": "ec269d7a-1280-41b9-f9bc-73171838b965"
      },
      "source": [
        "tabula.environment_info()"
      ],
      "execution_count": 4,
      "outputs": [
        {
          "output_type": "stream",
          "name": "stdout",
          "text": [
            "Python version:\n",
            "    3.7.12 (default, Sep 10 2021, 00:21:48) \n",
            "[GCC 7.5.0]\n",
            "Java version:\n",
            "    openjdk version \"11.0.11\" 2021-04-20\n",
            "OpenJDK Runtime Environment (build 11.0.11+9-Ubuntu-0ubuntu2.18.04)\n",
            "OpenJDK 64-Bit Server VM (build 11.0.11+9-Ubuntu-0ubuntu2.18.04, mixed mode, sharing)\n",
            "tabula-py version: 2.3.0\n",
            "platform: Linux-5.4.104+-x86_64-with-Ubuntu-18.04-bionic\n",
            "uname:\n",
            "    uname_result(system='Linux', node='38fce0148dd8', release='5.4.104+', version='#1 SMP Sat Jun 5 09:50:34 PDT 2021', machine='x86_64', processor='x86_64')\n",
            "linux_distribution: ('Ubuntu', '18.04', 'bionic')\n",
            "mac_ver: ('', ('', '', ''), '')\n",
            "    \n"
          ]
        }
      ]
    },
    {
      "cell_type": "code",
      "metadata": {
        "id": "shTT3RNv_Nb5"
      },
      "source": [
        "pdf_path = \"/content/drive/MyDrive/sangyo2020.pdf\""
      ],
      "execution_count": 5,
      "outputs": []
    },
    {
      "cell_type": "code",
      "metadata": {
        "id": "seL6Fwlf_eL4"
      },
      "source": [
        "dfs = tabula.read_pdf(pdf_path, stream=True,pages=\"12\")"
      ],
      "execution_count": 7,
      "outputs": []
    },
    {
      "cell_type": "code",
      "metadata": {
        "colab": {
          "base_uri": "https://localhost:8080/",
          "height": 855
        },
        "id": "9XQOosQm_i1K",
        "outputId": "e07d128a-69ce-46a0-d7f5-265f2534c27a"
      },
      "source": [
        "dfs[0]"
      ],
      "execution_count": 8,
      "outputs": [
        {
          "output_type": "execute_result",
          "data": {
            "text/html": [
              "<div>\n",
              "<style scoped>\n",
              "    .dataframe tbody tr th:only-of-type {\n",
              "        vertical-align: middle;\n",
              "    }\n",
              "\n",
              "    .dataframe tbody tr th {\n",
              "        vertical-align: top;\n",
              "    }\n",
              "\n",
              "    .dataframe thead th {\n",
              "        text-align: right;\n",
              "    }\n",
              "</style>\n",
              "<table border=\"1\" class=\"dataframe\">\n",
              "  <thead>\n",
              "    <tr style=\"text-align: right;\">\n",
              "      <th></th>\n",
              "      <th>Unnamed: 0</th>\n",
              "      <th>事業所</th>\n",
              "      <th>Unnamed: 1</th>\n",
              "      <th>製造品出荷額等</th>\n",
              "      <th>付加価値額</th>\n",
              "    </tr>\n",
              "  </thead>\n",
              "  <tbody>\n",
              "    <tr>\n",
              "      <th>0</th>\n",
              "      <td>NaN</td>\n",
              "      <td>NaN</td>\n",
              "      <td>従業者数(人)</td>\n",
              "      <td>NaN</td>\n",
              "      <td>NaN</td>\n",
              "    </tr>\n",
              "    <tr>\n",
              "      <th>1</th>\n",
              "      <td>NaN</td>\n",
              "      <td>数</td>\n",
              "      <td>NaN</td>\n",
              "      <td>(万円)</td>\n",
              "      <td>(万円)</td>\n",
              "    </tr>\n",
              "    <tr>\n",
              "      <th>2</th>\n",
              "      <td>北区</td>\n",
              "      <td>224</td>\n",
              "      <td>8,539</td>\n",
              "      <td>17,523,812</td>\n",
              "      <td>7,615,599</td>\n",
              "    </tr>\n",
              "    <tr>\n",
              "      <th>3</th>\n",
              "      <td>千代田区</td>\n",
              "      <td>84</td>\n",
              "      <td>2,040</td>\n",
              "      <td>4,280,350</td>\n",
              "      <td>1,858,168</td>\n",
              "    </tr>\n",
              "    <tr>\n",
              "      <th>4</th>\n",
              "      <td>中央区</td>\n",
              "      <td>108</td>\n",
              "      <td>1,839</td>\n",
              "      <td>3,195,709</td>\n",
              "      <td>1,421,125</td>\n",
              "    </tr>\n",
              "    <tr>\n",
              "      <th>5</th>\n",
              "      <td>港区</td>\n",
              "      <td>72</td>\n",
              "      <td>1,162</td>\n",
              "      <td>3,037,532</td>\n",
              "      <td>1,265,441</td>\n",
              "    </tr>\n",
              "    <tr>\n",
              "      <th>6</th>\n",
              "      <td>新宿区</td>\n",
              "      <td>233</td>\n",
              "      <td>5,428</td>\n",
              "      <td>10,489,978</td>\n",
              "      <td>4,533,281</td>\n",
              "    </tr>\n",
              "    <tr>\n",
              "      <th>7</th>\n",
              "      <td>文京区</td>\n",
              "      <td>203</td>\n",
              "      <td>4,827</td>\n",
              "      <td>8,744,431</td>\n",
              "      <td>3,834,331</td>\n",
              "    </tr>\n",
              "    <tr>\n",
              "      <th>8</th>\n",
              "      <td>台東区</td>\n",
              "      <td>334</td>\n",
              "      <td>3,498</td>\n",
              "      <td>5,946,115</td>\n",
              "      <td>2,406,902</td>\n",
              "    </tr>\n",
              "    <tr>\n",
              "      <th>9</th>\n",
              "      <td>墨田区</td>\n",
              "      <td>666</td>\n",
              "      <td>12,108</td>\n",
              "      <td>29,504,853</td>\n",
              "      <td>14,680,259</td>\n",
              "    </tr>\n",
              "    <tr>\n",
              "      <th>10</th>\n",
              "      <td>江東区</td>\n",
              "      <td>438</td>\n",
              "      <td>8,806</td>\n",
              "      <td>27,248,687</td>\n",
              "      <td>12,035,226</td>\n",
              "    </tr>\n",
              "    <tr>\n",
              "      <th>11</th>\n",
              "      <td>品川区</td>\n",
              "      <td>308</td>\n",
              "      <td>5,178</td>\n",
              "      <td>9,903,392</td>\n",
              "      <td>4,847,214</td>\n",
              "    </tr>\n",
              "    <tr>\n",
              "      <th>12</th>\n",
              "      <td>目黒区</td>\n",
              "      <td>117</td>\n",
              "      <td>2,533</td>\n",
              "      <td>4,842,348</td>\n",
              "      <td>1,979,946</td>\n",
              "    </tr>\n",
              "    <tr>\n",
              "      <th>13</th>\n",
              "      <td>大田区</td>\n",
              "      <td>1151</td>\n",
              "      <td>18,982</td>\n",
              "      <td>42,125,693</td>\n",
              "      <td>17,435,131</td>\n",
              "    </tr>\n",
              "    <tr>\n",
              "      <th>14</th>\n",
              "      <td>世田谷区</td>\n",
              "      <td>129</td>\n",
              "      <td>1,866</td>\n",
              "      <td>3,839,134</td>\n",
              "      <td>1,652,521</td>\n",
              "    </tr>\n",
              "    <tr>\n",
              "      <th>15</th>\n",
              "      <td>渋谷区</td>\n",
              "      <td>42</td>\n",
              "      <td>886</td>\n",
              "      <td>1,525,131</td>\n",
              "      <td>726,698</td>\n",
              "    </tr>\n",
              "    <tr>\n",
              "      <th>16</th>\n",
              "      <td>中野区</td>\n",
              "      <td>59</td>\n",
              "      <td>799</td>\n",
              "      <td>1,320,295</td>\n",
              "      <td>591,505</td>\n",
              "    </tr>\n",
              "    <tr>\n",
              "      <th>17</th>\n",
              "      <td>杉並区</td>\n",
              "      <td>90</td>\n",
              "      <td>1,265</td>\n",
              "      <td>2,289,649</td>\n",
              "      <td>969,582</td>\n",
              "    </tr>\n",
              "    <tr>\n",
              "      <th>18</th>\n",
              "      <td>豊島区</td>\n",
              "      <td>117</td>\n",
              "      <td>2,160</td>\n",
              "      <td>4,174,961</td>\n",
              "      <td>2,054,552</td>\n",
              "    </tr>\n",
              "    <tr>\n",
              "      <th>19</th>\n",
              "      <td>荒川区</td>\n",
              "      <td>384</td>\n",
              "      <td>5,129</td>\n",
              "      <td>8,396,107</td>\n",
              "      <td>3,381,462</td>\n",
              "    </tr>\n",
              "    <tr>\n",
              "      <th>20</th>\n",
              "      <td>板橋区</td>\n",
              "      <td>559</td>\n",
              "      <td>14,581</td>\n",
              "      <td>35,261,953</td>\n",
              "      <td>14,089,677</td>\n",
              "    </tr>\n",
              "    <tr>\n",
              "      <th>21</th>\n",
              "      <td>練馬区</td>\n",
              "      <td>159</td>\n",
              "      <td>2,914</td>\n",
              "      <td>6,487,811</td>\n",
              "      <td>2,649,998</td>\n",
              "    </tr>\n",
              "    <tr>\n",
              "      <th>22</th>\n",
              "      <td>足立区</td>\n",
              "      <td>699</td>\n",
              "      <td>12,434</td>\n",
              "      <td>24,535,333</td>\n",
              "      <td>9,129,354</td>\n",
              "    </tr>\n",
              "    <tr>\n",
              "      <th>23</th>\n",
              "      <td>葛飾区</td>\n",
              "      <td>621</td>\n",
              "      <td>8,570</td>\n",
              "      <td>17,318,058</td>\n",
              "      <td>6,441,623</td>\n",
              "    </tr>\n",
              "    <tr>\n",
              "      <th>24</th>\n",
              "      <td>江戸川区</td>\n",
              "      <td>628</td>\n",
              "      <td>9,256</td>\n",
              "      <td>20,119,966</td>\n",
              "      <td>7,894,334</td>\n",
              "    </tr>\n",
              "    <tr>\n",
              "      <th>25</th>\n",
              "      <td>23区計</td>\n",
              "      <td>7,425</td>\n",
              "      <td>134,800</td>\n",
              "      <td>292,111,298</td>\n",
              "      <td>123,493,929</td>\n",
              "    </tr>\n",
              "  </tbody>\n",
              "</table>\n",
              "</div>"
            ],
            "text/plain": [
              "   Unnamed: 0    事業所 Unnamed: 1      製造品出荷額等        付加価値額\n",
              "0         NaN    NaN    従業者数(人)          NaN          NaN\n",
              "1         NaN      数        NaN         (万円)         (万円)\n",
              "2          北区    224      8,539   17,523,812    7,615,599\n",
              "3        千代田区     84      2,040    4,280,350    1,858,168\n",
              "4         中央区    108      1,839    3,195,709    1,421,125\n",
              "5          港区     72      1,162    3,037,532    1,265,441\n",
              "6         新宿区    233      5,428   10,489,978    4,533,281\n",
              "7         文京区    203      4,827    8,744,431    3,834,331\n",
              "8         台東区    334      3,498    5,946,115    2,406,902\n",
              "9         墨田区    666     12,108   29,504,853   14,680,259\n",
              "10        江東区    438      8,806   27,248,687   12,035,226\n",
              "11        品川区    308      5,178    9,903,392    4,847,214\n",
              "12        目黒区    117      2,533    4,842,348    1,979,946\n",
              "13        大田区   1151     18,982   42,125,693   17,435,131\n",
              "14       世田谷区    129      1,866    3,839,134    1,652,521\n",
              "15        渋谷区     42        886    1,525,131      726,698\n",
              "16        中野区     59        799    1,320,295      591,505\n",
              "17        杉並区     90      1,265    2,289,649      969,582\n",
              "18        豊島区    117      2,160    4,174,961    2,054,552\n",
              "19        荒川区    384      5,129    8,396,107    3,381,462\n",
              "20        板橋区    559     14,581   35,261,953   14,089,677\n",
              "21        練馬区    159      2,914    6,487,811    2,649,998\n",
              "22        足立区    699     12,434   24,535,333    9,129,354\n",
              "23        葛飾区    621      8,570   17,318,058    6,441,623\n",
              "24       江戸川区    628      9,256   20,119,966    7,894,334\n",
              "25       23区計  7,425    134,800  292,111,298  123,493,929"
            ]
          },
          "metadata": {},
          "execution_count": 8
        }
      ]
    },
    {
      "cell_type": "code",
      "metadata": {
        "id": "8C3kUZ-Q_tGK"
      },
      "source": [
        "dfs[0].to_excel(\"sangyo.xlsx\",sheet_name='new_sheet')"
      ],
      "execution_count": 9,
      "outputs": []
    },
    {
      "cell_type": "code",
      "metadata": {
        "id": "aFogJGk9ATcE"
      },
      "source": [
        ""
      ],
      "execution_count": null,
      "outputs": []
    }
  ]
}