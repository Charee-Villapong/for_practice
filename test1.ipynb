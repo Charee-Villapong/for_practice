{
 "cells": [
  {
   "cell_type": "code",
   "execution_count": 472,
   "id": "departmental-victory",
   "metadata": {},
   "outputs": [],
   "source": [
    "import pandas as pd\n",
    "import matplotlib.pyplot as plt\n",
    "import seaborn as sns\n",
    "import numpy as np"
   ]
  },
  {
   "cell_type": "code",
   "execution_count": 473,
   "id": "responsible-behalf",
   "metadata": {},
   "outputs": [],
   "source": [
    "test_data = pd.read_csv(\"test.csv\")"
   ]
  },
  {
   "cell_type": "code",
   "execution_count": 474,
   "id": "aquatic-crest",
   "metadata": {},
   "outputs": [],
   "source": [
    "train_data = pd.read_csv(\"train.csv\")"
   ]
  },
  {
   "cell_type": "code",
   "execution_count": 475,
   "id": "atmospheric-tracy",
   "metadata": {},
   "outputs": [
    {
     "data": {
      "text/plain": [
       "id                           0\n",
       "accommodates                 0\n",
       "amenities                    0\n",
       "bathrooms                   53\n",
       "bed_type                     0\n",
       "bedrooms                    20\n",
       "beds                        35\n",
       "cancellation_policy          0\n",
       "city                         0\n",
       "cleaning_fee                 0\n",
       "description                  0\n",
       "first_review              3956\n",
       "host_has_profile_pic        40\n",
       "host_identity_verified      40\n",
       "host_response_rate        4595\n",
       "host_since                  40\n",
       "instant_bookable             0\n",
       "last_review               3947\n",
       "latitude                     0\n",
       "longitude                    0\n",
       "name                         0\n",
       "neighbourhood             1712\n",
       "number_of_reviews            0\n",
       "property_type                0\n",
       "review_scores_rating      4166\n",
       "room_type                    0\n",
       "thumbnail_url             2071\n",
       "zipcode                    250\n",
       "dtype: int64"
      ]
     },
     "execution_count": 475,
     "metadata": {},
     "output_type": "execute_result"
    }
   ],
   "source": [
    "test_data.isnull().sum()"
   ]
  },
  {
   "cell_type": "code",
   "execution_count": 476,
   "id": "adjacent-packaging",
   "metadata": {},
   "outputs": [
    {
     "data": {
      "text/plain": [
       "id                            0\n",
       "accommodates                  0\n",
       "amenities                     0\n",
       "bathrooms                   147\n",
       "bed_type                      0\n",
       "bedrooms                     71\n",
       "beds                         96\n",
       "cancellation_policy           0\n",
       "city                          0\n",
       "cleaning_fee                  0\n",
       "description                   0\n",
       "first_review              11908\n",
       "host_has_profile_pic        148\n",
       "host_identity_verified      148\n",
       "host_response_rate        13704\n",
       "host_since                  148\n",
       "instant_bookable              0\n",
       "last_review               11880\n",
       "latitude                      0\n",
       "longitude                     0\n",
       "name                          0\n",
       "neighbourhood              5160\n",
       "number_of_reviews             0\n",
       "property_type                 0\n",
       "review_scores_rating      12556\n",
       "room_type                     0\n",
       "thumbnail_url              6145\n",
       "zipcode                     716\n",
       "y                             0\n",
       "dtype: int64"
      ]
     },
     "execution_count": 476,
     "metadata": {},
     "output_type": "execute_result"
    }
   ],
   "source": [
    "train_data.isnull().sum()"
   ]
  },
  {
   "cell_type": "code",
   "execution_count": 477,
   "id": "mighty-greeting",
   "metadata": {},
   "outputs": [
    {
     "data": {
      "text/plain": [
       "(18528, 28)"
      ]
     },
     "execution_count": 477,
     "metadata": {},
     "output_type": "execute_result"
    }
   ],
   "source": [
    "test_data.shape"
   ]
  },
  {
   "cell_type": "code",
   "execution_count": 478,
   "id": "preceding-assault",
   "metadata": {},
   "outputs": [
    {
     "data": {
      "text/plain": [
       "(55583, 29)"
      ]
     },
     "execution_count": 478,
     "metadata": {},
     "output_type": "execute_result"
    }
   ],
   "source": [
    "train_data.shape"
   ]
  },
  {
   "cell_type": "code",
   "execution_count": 479,
   "id": "working-clark",
   "metadata": {},
   "outputs": [],
   "source": [
    "con_data = pd.concat([test_data,train_data])"
   ]
  },
  {
   "cell_type": "code",
   "execution_count": 480,
   "id": "greek-variety",
   "metadata": {},
   "outputs": [
    {
     "data": {
      "text/plain": [
       "(74111, 29)"
      ]
     },
     "execution_count": 480,
     "metadata": {},
     "output_type": "execute_result"
    }
   ],
   "source": [
    "con_data.shape"
   ]
  },
  {
   "cell_type": "code",
   "execution_count": 481,
   "id": "deluxe-literacy",
   "metadata": {},
   "outputs": [
    {
     "data": {
      "text/plain": [
       "id                            0\n",
       "accommodates                  0\n",
       "amenities                     0\n",
       "bathrooms                   200\n",
       "bed_type                      0\n",
       "bedrooms                     91\n",
       "beds                        131\n",
       "cancellation_policy           0\n",
       "city                          0\n",
       "cleaning_fee                  0\n",
       "description                   0\n",
       "first_review              15864\n",
       "host_has_profile_pic        188\n",
       "host_identity_verified      188\n",
       "host_response_rate        18299\n",
       "host_since                  188\n",
       "instant_bookable              0\n",
       "last_review               15827\n",
       "latitude                      0\n",
       "longitude                     0\n",
       "name                          0\n",
       "neighbourhood              6872\n",
       "number_of_reviews             0\n",
       "property_type                 0\n",
       "review_scores_rating      16722\n",
       "room_type                     0\n",
       "thumbnail_url              8216\n",
       "zipcode                     966\n",
       "y                         18528\n",
       "dtype: int64"
      ]
     },
     "execution_count": 481,
     "metadata": {},
     "output_type": "execute_result"
    }
   ],
   "source": [
    "con_data.isnull().sum()"
   ]
  },
  {
   "cell_type": "code",
   "execution_count": 482,
   "id": "multiple-colon",
   "metadata": {},
   "outputs": [
    {
     "data": {
      "image/png": "[encoded data removed]",
      "text/plain": [
       "<Figure size 720x720 with 12 Axes>"
      ]
     },
     "metadata": {
      "needs_background": "light"
     },
     "output_type": "display_data"
    }
   ],
   "source": [
    "con_data.hist(figsize=(10,10))\n",
    "plt.show()"
   ]
  },
  {
   "cell_type": "code",
   "execution_count": 483,
   "id": "southeast-empire",
   "metadata": {},
   "outputs": [],
   "source": [
    "del con_data[\"longitude\"]"
   ]
  },
  {
   "cell_type": "code",
   "execution_count": 484,
   "id": "proof-disabled",
   "metadata": {},
   "outputs": [],
   "source": [
    "del con_data[\"latitude\"]"
   ]
  },
  {
   "cell_type": "code",
   "execution_count": 485,
   "id": "regulated-trail",
   "metadata": {},
   "outputs": [
    {
     "data": {
      "text/plain": [
       "<AxesSubplot:>"
      ]
     },
     "execution_count": 485,
     "metadata": {},
     "output_type": "execute_result"
    },
    {
     "data": {
      "image/png": "[encoded data removed]",
      "text/plain": [
       "<Figure size 432x288 with 2 Axes>"
      ]
     },
     "metadata": {
      "needs_background": "light"
     },
     "output_type": "display_data"
    }
   ],
   "source": [
    "sns.heatmap(con_data.corr())"
   ]
  },
  {
   "cell_type": "code",
   "execution_count": 486,
   "id": "photographic-truck",
   "metadata": {},
   "outputs": [],
   "source": [
    "con_data = con_data.drop([\"number_of_reviews\",\"review_scores_rating\"],axis=1)"
   ]
  },
  {
   "cell_type": "code",
   "execution_count": 487,
   "id": "historical-trinidad",
   "metadata": {},
   "outputs": [
    {
     "data": {
      "text/plain": [
       "Index(['id', 'accommodates', 'amenities', 'bathrooms', 'bed_type', 'bedrooms',\n",
       "       'beds', 'cancellation_policy', 'city', 'cleaning_fee', 'description',\n",
       "       'first_review', 'host_has_profile_pic', 'host_identity_verified',\n",
       "       'host_response_rate', 'host_since', 'instant_bookable', 'last_review',\n",
       "       'name', 'neighbourhood', 'property_type', 'room_type', 'thumbnail_url',\n",
       "       'zipcode', 'y'],\n",
       "      dtype='object')"
      ]
     },
     "execution_count": 487,
     "metadata": {},
     "output_type": "execute_result"
    }
   ],
   "source": [
    "con_data.columns"
   ]
  },
  {
   "cell_type": "code",
   "execution_count": 488,
   "id": "geographic-answer",
   "metadata": {},
   "outputs": [],
   "source": [
    "con_data[\"cleaning_fee\"].replace(\"t\",int(\"0\"),inplace=True)\n",
    "con_data[\"cleaning_fee\"].replace(\"f\",int(\"1\"),inplace=True)"
   ]
  },
  {
   "cell_type": "code",
   "execution_count": 489,
   "id": "internal-salmon",
   "metadata": {},
   "outputs": [],
   "source": [
    "con_data[\"instant_bookable\"].replace(\"t\",int(\"0\"),inplace=True)\n",
    "con_data[\"instant_bookable\"].replace(\"f\",int(\"1\"),inplace=True)"
   ]
  },
  {
   "cell_type": "code",
   "execution_count": 490,
   "id": "polish-exclusive",
   "metadata": {},
   "outputs": [],
   "source": [
    "del con_data[\"thumbnail_url\"]"
   ]
  },
  {
   "cell_type": "code",
   "execution_count": 491,
   "id": "national-grocery",
   "metadata": {},
   "outputs": [],
   "source": [
    "del con_data[\"zipcode\"]"
   ]
  },
  {
   "cell_type": "code",
   "execution_count": 492,
   "id": "phantom-petroleum",
   "metadata": {},
   "outputs": [],
   "source": [
    "con_data[\"host_has_profile_pic\"].replace(\"t\",int(\"0\"),inplace=True)\n",
    "con_data[\"host_has_profile_pic\"].replace(\"f\",int(\"1\"),inplace=True)"
   ]
  },
  {
   "cell_type": "code",
   "execution_count": 493,
   "id": "acquired-finding",
   "metadata": {},
   "outputs": [],
   "source": [
    "con_data[\"host_identity_verified\"].replace(\"t\",int(\"0\"),inplace=True)\n",
    "con_data[\"host_identity_verified\"].replace(\"f\",int(\"1\"),inplace=True)"
   ]
  },
  {
   "cell_type": "code",
   "execution_count": 494,
   "id": "strange-quarter",
   "metadata": {},
   "outputs": [
    {
     "data": {
      "text/plain": [
       "id                            0\n",
       "accommodates                  0\n",
       "amenities                     0\n",
       "bathrooms                   200\n",
       "bed_type                      0\n",
       "bedrooms                     91\n",
       "beds                        131\n",
       "cancellation_policy           0\n",
       "city                          0\n",
       "cleaning_fee                  0\n",
       "description                   0\n",
       "first_review              15864\n",
       "host_has_profile_pic        188\n",
       "host_identity_verified      188\n",
       "host_response_rate        18299\n",
       "host_since                  188\n",
       "instant_bookable              0\n",
       "last_review               15827\n",
       "name                          0\n",
       "neighbourhood              6872\n",
       "property_type                 0\n",
       "room_type                     0\n",
       "y                         18528\n",
       "dtype: int64"
      ]
     },
     "execution_count": 494,
     "metadata": {},
     "output_type": "execute_result"
    }
   ],
   "source": [
    "con_data.isnull().sum()"
   ]
  },
  {
   "cell_type": "code",
   "execution_count": 495,
   "id": "standing-missile",
   "metadata": {},
   "outputs": [],
   "source": [
    "con_copy = con_data.copy()"
   ]
  },
  {
   "cell_type": "code",
   "execution_count": 496,
   "id": "assisted-ambassador",
   "metadata": {},
   "outputs": [],
   "source": [
    "del con_copy[\"first_review\"]"
   ]
  },
  {
   "cell_type": "code",
   "execution_count": 497,
   "id": "horizontal-amendment",
   "metadata": {},
   "outputs": [
    {
     "data": {
      "text/html": [
       "<div>\n",
       "<style scoped>\n",
       "    .dataframe tbody tr th:only-of-type {\n",
       "        vertical-align: middle;\n",
       "    }\n",
       "\n",
       "    .dataframe tbody tr th {\n",
       "        vertical-align: top;\n",
       "    }\n",
       "\n",
       "    .dataframe thead th {\n",
       "        text-align: right;\n",
       "    }\n",
       "</style>\n",
       "<table border=\"1\" class=\"dataframe\">\n",
       "  <thead>\n",
       "    <tr style=\"text-align: right;\">\n",
       "      <th></th>\n",
       "      <th>id</th>\n",
       "      <th>accommodates</th>\n",
       "      <th>bathrooms</th>\n",
       "      <th>bedrooms</th>\n",
       "      <th>beds</th>\n",
       "      <th>cleaning_fee</th>\n",
       "      <th>host_has_profile_pic</th>\n",
       "      <th>host_identity_verified</th>\n",
       "      <th>instant_bookable</th>\n",
       "      <th>y</th>\n",
       "    </tr>\n",
       "  </thead>\n",
       "  <tbody>\n",
       "    <tr>\n",
       "      <th>id</th>\n",
       "      <td>1.000000</td>\n",
       "      <td>0.003614</td>\n",
       "      <td>0.005566</td>\n",
       "      <td>0.002081</td>\n",
       "      <td>0.005599</td>\n",
       "      <td>0.004213</td>\n",
       "      <td>0.001859</td>\n",
       "      <td>0.006925</td>\n",
       "      <td>-0.003420</td>\n",
       "      <td>-0.001129</td>\n",
       "    </tr>\n",
       "    <tr>\n",
       "      <th>accommodates</th>\n",
       "      <td>0.003614</td>\n",
       "      <td>1.000000</td>\n",
       "      <td>0.505632</td>\n",
       "      <td>0.709258</td>\n",
       "      <td>0.810801</td>\n",
       "      <td>-0.182306</td>\n",
       "      <td>0.003938</td>\n",
       "      <td>-0.058198</td>\n",
       "      <td>-0.053093</td>\n",
       "      <td>0.522330</td>\n",
       "    </tr>\n",
       "    <tr>\n",
       "      <th>bathrooms</th>\n",
       "      <td>0.005566</td>\n",
       "      <td>0.505632</td>\n",
       "      <td>1.000000</td>\n",
       "      <td>0.589935</td>\n",
       "      <td>0.525591</td>\n",
       "      <td>-0.053784</td>\n",
       "      <td>0.003262</td>\n",
       "      <td>-0.014723</td>\n",
       "      <td>-0.001461</td>\n",
       "      <td>0.456044</td>\n",
       "    </tr>\n",
       "    <tr>\n",
       "      <th>bedrooms</th>\n",
       "      <td>0.002081</td>\n",
       "      <td>0.709258</td>\n",
       "      <td>0.589935</td>\n",
       "      <td>1.000000</td>\n",
       "      <td>0.709416</td>\n",
       "      <td>-0.105454</td>\n",
       "      <td>-0.000623</td>\n",
       "      <td>-0.025965</td>\n",
       "      <td>0.003654</td>\n",
       "      <td>0.495830</td>\n",
       "    </tr>\n",
       "    <tr>\n",
       "      <th>beds</th>\n",
       "      <td>0.005599</td>\n",
       "      <td>0.810801</td>\n",
       "      <td>0.525591</td>\n",
       "      <td>0.709416</td>\n",
       "      <td>1.000000</td>\n",
       "      <td>-0.131632</td>\n",
       "      <td>0.000234</td>\n",
       "      <td>-0.035856</td>\n",
       "      <td>-0.051354</td>\n",
       "      <td>0.435603</td>\n",
       "    </tr>\n",
       "    <tr>\n",
       "      <th>cleaning_fee</th>\n",
       "      <td>0.004213</td>\n",
       "      <td>-0.182306</td>\n",
       "      <td>-0.053784</td>\n",
       "      <td>-0.105454</td>\n",
       "      <td>-0.131632</td>\n",
       "      <td>1.000000</td>\n",
       "      <td>0.022681</td>\n",
       "      <td>0.162567</td>\n",
       "      <td>0.010031</td>\n",
       "      <td>-0.029846</td>\n",
       "    </tr>\n",
       "    <tr>\n",
       "      <th>host_has_profile_pic</th>\n",
       "      <td>0.001859</td>\n",
       "      <td>0.003938</td>\n",
       "      <td>0.003262</td>\n",
       "      <td>-0.000623</td>\n",
       "      <td>0.000234</td>\n",
       "      <td>0.022681</td>\n",
       "      <td>1.000000</td>\n",
       "      <td>0.075261</td>\n",
       "      <td>-0.009280</td>\n",
       "      <td>0.020781</td>\n",
       "    </tr>\n",
       "    <tr>\n",
       "      <th>host_identity_verified</th>\n",
       "      <td>0.006925</td>\n",
       "      <td>-0.058198</td>\n",
       "      <td>-0.014723</td>\n",
       "      <td>-0.025965</td>\n",
       "      <td>-0.035856</td>\n",
       "      <td>0.162567</td>\n",
       "      <td>0.075261</td>\n",
       "      <td>1.000000</td>\n",
       "      <td>-0.087749</td>\n",
       "      <td>0.009627</td>\n",
       "    </tr>\n",
       "    <tr>\n",
       "      <th>instant_bookable</th>\n",
       "      <td>-0.003420</td>\n",
       "      <td>-0.053093</td>\n",
       "      <td>-0.001461</td>\n",
       "      <td>0.003654</td>\n",
       "      <td>-0.051354</td>\n",
       "      <td>0.010031</td>\n",
       "      <td>-0.009280</td>\n",
       "      <td>-0.087749</td>\n",
       "      <td>1.000000</td>\n",
       "      <td>0.026395</td>\n",
       "    </tr>\n",
       "    <tr>\n",
       "      <th>y</th>\n",
       "      <td>-0.001129</td>\n",
       "      <td>0.522330</td>\n",
       "      <td>0.456044</td>\n",
       "      <td>0.495830</td>\n",
       "      <td>0.435603</td>\n",
       "      <td>-0.029846</td>\n",
       "      <td>0.020781</td>\n",
       "      <td>0.009627</td>\n",
       "      <td>0.026395</td>\n",
       "      <td>1.000000</td>\n",
       "    </tr>\n",
       "  </tbody>\n",
       "</table>\n",
       "</div>"
      ],
      "text/plain": [
       "                              id  accommodates  bathrooms  bedrooms      beds  \\\n",
       "id                      1.000000      0.003614   0.005566  0.002081  0.005599   \n",
       "accommodates            0.003614      1.000000   0.505632  0.709258  0.810801   \n",
       "bathrooms               0.005566      0.505632   1.000000  0.589935  0.525591   \n",
       "bedrooms                0.002081      0.709258   0.589935  1.000000  0.709416   \n",
       "beds                    0.005599      0.810801   0.525591  0.709416  1.000000   \n",
       "cleaning_fee            0.004213     -0.182306  -0.053784 -0.105454 -0.131632   \n",
       "host_has_profile_pic    0.001859      0.003938   0.003262 -0.000623  0.000234   \n",
       "host_identity_verified  0.006925     -0.058198  -0.014723 -0.025965 -0.035856   \n",
       "instant_bookable       -0.003420     -0.053093  -0.001461  0.003654 -0.051354   \n",
       "y                      -0.001129      0.522330   0.456044  0.495830  0.435603   \n",
       "\n",
       "                        cleaning_fee  host_has_profile_pic  \\\n",
       "id                          0.004213              0.001859   \n",
       "accommodates               -0.182306              0.003938   \n",
       "bathrooms                  -0.053784              0.003262   \n",
       "bedrooms                   -0.105454             -0.000623   \n",
       "beds                       -0.131632              0.000234   \n",
       "cleaning_fee                1.000000              0.022681   \n",
       "host_has_profile_pic        0.022681              1.000000   \n",
       "host_identity_verified      0.162567              0.075261   \n",
       "instant_bookable            0.010031             -0.009280   \n",
       "y                          -0.029846              0.020781   \n",
       "\n",
       "                        host_identity_verified  instant_bookable         y  \n",
       "id                                    0.006925         -0.003420 -0.001129  \n",
       "accommodates                         -0.058198         -0.053093  0.522330  \n",
       "bathrooms                            -0.014723         -0.001461  0.456044  \n",
       "bedrooms                             -0.025965          0.003654  0.495830  \n",
       "beds                                 -0.035856         -0.051354  0.435603  \n",
       "cleaning_fee                          0.162567          0.010031 -0.029846  \n",
       "host_has_profile_pic                  0.075261         -0.009280  0.020781  \n",
       "host_identity_verified                1.000000         -0.087749  0.009627  \n",
       "instant_bookable                     -0.087749          1.000000  0.026395  \n",
       "y                                     0.009627          0.026395  1.000000  "
      ]
     },
     "execution_count": 497,
     "metadata": {},
     "output_type": "execute_result"
    }
   ],
   "source": [
    "con_copy.corr()"
   ]
  },
  {
   "cell_type": "code",
   "execution_count": 498,
   "id": "chief-insider",
   "metadata": {},
   "outputs": [
    {
     "data": {
      "text/plain": [
       "array(['100%', nan, '80%', '60%', '97%', '90%', '99%', '70%', '78%',\n",
       "       '57%', '0%', '75%', '50%', '94%', '86%', '98%', '96%', '88%',\n",
       "       '40%', '84%', '89%', '93%', '83%', '82%', '20%', '33%', '68%',\n",
       "       '61%', '67%', '85%', '63%', '72%', '95%', '30%', '65%', '74%',\n",
       "       '54%', '92%', '71%', '91%', '81%', '43%', '79%', '25%', '87%',\n",
       "       '62%', '73%', '64%', '17%', '77%', '56%', '29%', '55%', '76%',\n",
       "       '53%', '58%', '46%', '69%', '10%', '59%', '38%', '52%', '14%',\n",
       "       '44%', '23%', '36%', '11%', '22%', '35%', '26%', '42%', '13%',\n",
       "       '6%', '27%', '31%', '47%', '66%', '21%', '15%', '41%', '39%'],\n",
       "      dtype=object)"
      ]
     },
     "execution_count": 498,
     "metadata": {},
     "output_type": "execute_result"
    }
   ],
   "source": [
    "con_copy.host_response_rate.unique()"
   ]
  },
  {
   "cell_type": "code",
   "execution_count": 499,
   "id": "equipped-calculation",
   "metadata": {},
   "outputs": [
    {
     "name": "stdout",
     "output_type": "stream",
     "text": [
      "<class 'pandas.core.frame.DataFrame'>\n",
      "Int64Index: 74111 entries, 0 to 55582\n",
      "Data columns (total 22 columns):\n",
      " #   Column                  Non-Null Count  Dtype  \n",
      "---  ------                  --------------  -----  \n",
      " 0   id                      74111 non-null  int64  \n",
      " 1   accommodates            74111 non-null  int64  \n",
      " 2   amenities               74111 non-null  object \n",
      " 3   bathrooms               73911 non-null  float64\n",
      " 4   bed_type                74111 non-null  object \n",
      " 5   bedrooms                74020 non-null  float64\n",
      " 6   beds                    73980 non-null  float64\n",
      " 7   cancellation_policy     74111 non-null  object \n",
      " 8   city                    74111 non-null  object \n",
      " 9   cleaning_fee            74111 non-null  int64  \n",
      " 10  description             74111 non-null  object \n",
      " 11  host_has_profile_pic    73923 non-null  float64\n",
      " 12  host_identity_verified  73923 non-null  float64\n",
      " 13  host_response_rate      55812 non-null  object \n",
      " 14  host_since              73923 non-null  object \n",
      " 15  instant_bookable        74111 non-null  int64  \n",
      " 16  last_review             58284 non-null  object \n",
      " 17  name                    74111 non-null  object \n",
      " 18  neighbourhood           67239 non-null  object \n",
      " 19  property_type           74111 non-null  object \n",
      " 20  room_type               74111 non-null  object \n",
      " 21  y                       55583 non-null  float64\n",
      "dtypes: float64(6), int64(4), object(12)\n",
      "memory usage: 13.0+ MB\n"
     ]
    }
   ],
   "source": [
    "con_copy.info()"
   ]
  },
  {
   "cell_type": "code",
   "execution_count": 500,
   "id": "suffering-behalf",
   "metadata": {},
   "outputs": [],
   "source": [
    "del con_copy[\"host_response_rate\"]"
   ]
  },
  {
   "cell_type": "code",
   "execution_count": 501,
   "id": "controlled-nevada",
   "metadata": {},
   "outputs": [],
   "source": [
    "con_copy = con_copy[[\"accommodates\",\"bathrooms\",\"bedrooms\",\"bathrooms\",\"bed_type\",\"cleaning_fee\",\"property_type\",\"room_type\",\"y\"]]\n",
    "test = con_copy[[\"accommodates\",\"bathrooms\",\"bedrooms\",\"bathrooms\",\"bed_type\",\"cleaning_fee\",\"property_type\",\"room_type\"]]"
   ]
  },
  {
   "cell_type": "code",
   "execution_count": 502,
   "id": "damaged-agreement",
   "metadata": {},
   "outputs": [
    {
     "data": {
      "text/plain": [
       "accommodates         0\n",
       "bathrooms          200\n",
       "bedrooms            91\n",
       "bathrooms          200\n",
       "bed_type             0\n",
       "cleaning_fee         0\n",
       "property_type        0\n",
       "room_type            0\n",
       "y                18528\n",
       "dtype: int64"
      ]
     },
     "execution_count": 502,
     "metadata": {},
     "output_type": "execute_result"
    }
   ],
   "source": [
    "con_copy.isnull().sum()"
   ]
  },
  {
   "cell_type": "code",
   "execution_count": 503,
   "id": "bearing-hands",
   "metadata": {},
   "outputs": [],
   "source": [
    "con_copy = con_copy.dropna(subset=[\"y\"])"
   ]
  },
  {
   "cell_type": "code",
   "execution_count": 504,
   "id": "induced-feedback",
   "metadata": {},
   "outputs": [
    {
     "data": {
      "text/plain": [
       "accommodates       0\n",
       "bathrooms        147\n",
       "bedrooms          71\n",
       "bathrooms        147\n",
       "bed_type           0\n",
       "cleaning_fee       0\n",
       "property_type      0\n",
       "room_type          0\n",
       "y                  0\n",
       "dtype: int64"
      ]
     },
     "execution_count": 504,
     "metadata": {},
     "output_type": "execute_result"
    }
   ],
   "source": [
    "con_copy.isnull().sum()"
   ]
  },
  {
   "cell_type": "code",
   "execution_count": 505,
   "id": "applied-solid",
   "metadata": {},
   "outputs": [],
   "source": [
    "con_copy = con_copy.dropna(how=\"any\")"
   ]
  },
  {
   "cell_type": "code",
   "execution_count": 506,
   "id": "psychological-denial",
   "metadata": {},
   "outputs": [
    {
     "data": {
      "text/plain": [
       "(55369, 9)"
      ]
     },
     "execution_count": 506,
     "metadata": {},
     "output_type": "execute_result"
    }
   ],
   "source": [
    "con_copy.shape"
   ]
  },
  {
   "cell_type": "code",
   "execution_count": 507,
   "id": "cordless-meaning",
   "metadata": {},
   "outputs": [
    {
     "data": {
      "text/html": [
       "<div>\n",
       "<style scoped>\n",
       "    .dataframe tbody tr th:only-of-type {\n",
       "        vertical-align: middle;\n",
       "    }\n",
       "\n",
       "    .dataframe tbody tr th {\n",
       "        vertical-align: top;\n",
       "    }\n",
       "\n",
       "    .dataframe thead th {\n",
       "        text-align: right;\n",
       "    }\n",
       "</style>\n",
       "<table border=\"1\" class=\"dataframe\">\n",
       "  <thead>\n",
       "    <tr style=\"text-align: right;\">\n",
       "      <th></th>\n",
       "      <th>accommodates</th>\n",
       "      <th>bathrooms</th>\n",
       "      <th>bedrooms</th>\n",
       "      <th>bathrooms</th>\n",
       "      <th>bed_type</th>\n",
       "      <th>cleaning_fee</th>\n",
       "      <th>property_type</th>\n",
       "      <th>room_type</th>\n",
       "      <th>y</th>\n",
       "    </tr>\n",
       "  </thead>\n",
       "  <tbody>\n",
       "    <tr>\n",
       "      <th>0</th>\n",
       "      <td>6</td>\n",
       "      <td>2.0</td>\n",
       "      <td>1.0</td>\n",
       "      <td>2.0</td>\n",
       "      <td>Real Bed</td>\n",
       "      <td>0</td>\n",
       "      <td>Apartment</td>\n",
       "      <td>Private room</td>\n",
       "      <td>138.0</td>\n",
       "    </tr>\n",
       "    <tr>\n",
       "      <th>1</th>\n",
       "      <td>2</td>\n",
       "      <td>1.0</td>\n",
       "      <td>1.0</td>\n",
       "      <td>1.0</td>\n",
       "      <td>Real Bed</td>\n",
       "      <td>0</td>\n",
       "      <td>House</td>\n",
       "      <td>Private room</td>\n",
       "      <td>42.0</td>\n",
       "    </tr>\n",
       "    <tr>\n",
       "      <th>2</th>\n",
       "      <td>2</td>\n",
       "      <td>2.0</td>\n",
       "      <td>1.0</td>\n",
       "      <td>2.0</td>\n",
       "      <td>Real Bed</td>\n",
       "      <td>0</td>\n",
       "      <td>Apartment</td>\n",
       "      <td>Private room</td>\n",
       "      <td>65.0</td>\n",
       "    </tr>\n",
       "    <tr>\n",
       "      <th>3</th>\n",
       "      <td>2</td>\n",
       "      <td>1.0</td>\n",
       "      <td>1.0</td>\n",
       "      <td>1.0</td>\n",
       "      <td>Real Bed</td>\n",
       "      <td>0</td>\n",
       "      <td>Apartment</td>\n",
       "      <td>Private room</td>\n",
       "      <td>166.0</td>\n",
       "    </tr>\n",
       "    <tr>\n",
       "      <th>4</th>\n",
       "      <td>2</td>\n",
       "      <td>1.0</td>\n",
       "      <td>1.0</td>\n",
       "      <td>1.0</td>\n",
       "      <td>Real Bed</td>\n",
       "      <td>0</td>\n",
       "      <td>Apartment</td>\n",
       "      <td>Entire home/apt</td>\n",
       "      <td>165.0</td>\n",
       "    </tr>\n",
       "  </tbody>\n",
       "</table>\n",
       "</div>"
      ],
      "text/plain": [
       "   accommodates  bathrooms  bedrooms  bathrooms  bed_type  cleaning_fee  \\\n",
       "0             6        2.0       1.0        2.0  Real Bed             0   \n",
       "1             2        1.0       1.0        1.0  Real Bed             0   \n",
       "2             2        2.0       1.0        2.0  Real Bed             0   \n",
       "3             2        1.0       1.0        1.0  Real Bed             0   \n",
       "4             2        1.0       1.0        1.0  Real Bed             0   \n",
       "\n",
       "  property_type        room_type      y  \n",
       "0     Apartment     Private room  138.0  \n",
       "1         House     Private room   42.0  \n",
       "2     Apartment     Private room   65.0  \n",
       "3     Apartment     Private room  166.0  \n",
       "4     Apartment  Entire home/apt  165.0  "
      ]
     },
     "execution_count": 507,
     "metadata": {},
     "output_type": "execute_result"
    }
   ],
   "source": [
    "con_copy.head()"
   ]
  },
  {
   "cell_type": "code",
   "execution_count": 508,
   "id": "basic-butterfly",
   "metadata": {},
   "outputs": [],
   "source": [
    "con_copy = pd.get_dummies(con_copy)"
   ]
  },
  {
   "cell_type": "code",
   "execution_count": 509,
   "id": "brown-measure",
   "metadata": {},
   "outputs": [
    {
     "data": {
      "text/html": [
       "<div>\n",
       "<style scoped>\n",
       "    .dataframe tbody tr th:only-of-type {\n",
       "        vertical-align: middle;\n",
       "    }\n",
       "\n",
       "    .dataframe tbody tr th {\n",
       "        vertical-align: top;\n",
       "    }\n",
       "\n",
       "    .dataframe thead th {\n",
       "        text-align: right;\n",
       "    }\n",
       "</style>\n",
       "<table border=\"1\" class=\"dataframe\">\n",
       "  <thead>\n",
       "    <tr style=\"text-align: right;\">\n",
       "      <th></th>\n",
       "      <th>accommodates</th>\n",
       "      <th>bathrooms</th>\n",
       "      <th>bedrooms</th>\n",
       "      <th>bathrooms</th>\n",
       "      <th>cleaning_fee</th>\n",
       "      <th>y</th>\n",
       "      <th>bed_type_Airbed</th>\n",
       "      <th>bed_type_Couch</th>\n",
       "      <th>bed_type_Futon</th>\n",
       "      <th>bed_type_Pull-out Sofa</th>\n",
       "      <th>...</th>\n",
       "      <th>property_type_Tipi</th>\n",
       "      <th>property_type_Townhouse</th>\n",
       "      <th>property_type_Train</th>\n",
       "      <th>property_type_Treehouse</th>\n",
       "      <th>property_type_Vacation home</th>\n",
       "      <th>property_type_Villa</th>\n",
       "      <th>property_type_Yurt</th>\n",
       "      <th>room_type_Entire home/apt</th>\n",
       "      <th>room_type_Private room</th>\n",
       "      <th>room_type_Shared room</th>\n",
       "    </tr>\n",
       "  </thead>\n",
       "  <tbody>\n",
       "    <tr>\n",
       "      <th>0</th>\n",
       "      <td>6</td>\n",
       "      <td>2.0</td>\n",
       "      <td>1.0</td>\n",
       "      <td>2.0</td>\n",
       "      <td>0</td>\n",
       "      <td>138.0</td>\n",
       "      <td>0</td>\n",
       "      <td>0</td>\n",
       "      <td>0</td>\n",
       "      <td>0</td>\n",
       "      <td>...</td>\n",
       "      <td>0</td>\n",
       "      <td>0</td>\n",
       "      <td>0</td>\n",
       "      <td>0</td>\n",
       "      <td>0</td>\n",
       "      <td>0</td>\n",
       "      <td>0</td>\n",
       "      <td>0</td>\n",
       "      <td>1</td>\n",
       "      <td>0</td>\n",
       "    </tr>\n",
       "    <tr>\n",
       "      <th>1</th>\n",
       "      <td>2</td>\n",
       "      <td>1.0</td>\n",
       "      <td>1.0</td>\n",
       "      <td>1.0</td>\n",
       "      <td>0</td>\n",
       "      <td>42.0</td>\n",
       "      <td>0</td>\n",
       "      <td>0</td>\n",
       "      <td>0</td>\n",
       "      <td>0</td>\n",
       "      <td>...</td>\n",
       "      <td>0</td>\n",
       "      <td>0</td>\n",
       "      <td>0</td>\n",
       "      <td>0</td>\n",
       "      <td>0</td>\n",
       "      <td>0</td>\n",
       "      <td>0</td>\n",
       "      <td>0</td>\n",
       "      <td>1</td>\n",
       "      <td>0</td>\n",
       "    </tr>\n",
       "    <tr>\n",
       "      <th>2</th>\n",
       "      <td>2</td>\n",
       "      <td>2.0</td>\n",
       "      <td>1.0</td>\n",
       "      <td>2.0</td>\n",
       "      <td>0</td>\n",
       "      <td>65.0</td>\n",
       "      <td>0</td>\n",
       "      <td>0</td>\n",
       "      <td>0</td>\n",
       "      <td>0</td>\n",
       "      <td>...</td>\n",
       "      <td>0</td>\n",
       "      <td>0</td>\n",
       "      <td>0</td>\n",
       "      <td>0</td>\n",
       "      <td>0</td>\n",
       "      <td>0</td>\n",
       "      <td>0</td>\n",
       "      <td>0</td>\n",
       "      <td>1</td>\n",
       "      <td>0</td>\n",
       "    </tr>\n",
       "    <tr>\n",
       "      <th>3</th>\n",
       "      <td>2</td>\n",
       "      <td>1.0</td>\n",
       "      <td>1.0</td>\n",
       "      <td>1.0</td>\n",
       "      <td>0</td>\n",
       "      <td>166.0</td>\n",
       "      <td>0</td>\n",
       "      <td>0</td>\n",
       "      <td>0</td>\n",
       "      <td>0</td>\n",
       "      <td>...</td>\n",
       "      <td>0</td>\n",
       "      <td>0</td>\n",
       "      <td>0</td>\n",
       "      <td>0</td>\n",
       "      <td>0</td>\n",
       "      <td>0</td>\n",
       "      <td>0</td>\n",
       "      <td>0</td>\n",
       "      <td>1</td>\n",
       "      <td>0</td>\n",
       "    </tr>\n",
       "    <tr>\n",
       "      <th>4</th>\n",
       "      <td>2</td>\n",
       "      <td>1.0</td>\n",
       "      <td>1.0</td>\n",
       "      <td>1.0</td>\n",
       "      <td>0</td>\n",
       "      <td>165.0</td>\n",
       "      <td>0</td>\n",
       "      <td>0</td>\n",
       "      <td>0</td>\n",
       "      <td>0</td>\n",
       "      <td>...</td>\n",
       "      <td>0</td>\n",
       "      <td>0</td>\n",
       "      <td>0</td>\n",
       "      <td>0</td>\n",
       "      <td>0</td>\n",
       "      <td>0</td>\n",
       "      <td>0</td>\n",
       "      <td>1</td>\n",
       "      <td>0</td>\n",
       "      <td>0</td>\n",
       "    </tr>\n",
       "  </tbody>\n",
       "</table>\n",
       "<p>5 rows × 47 columns</p>\n",
       "</div>"
      ],
      "text/plain": [
       "   accommodates  bathrooms  bedrooms  bathrooms  cleaning_fee      y  \\\n",
       "0             6        2.0       1.0        2.0             0  138.0   \n",
       "1             2        1.0       1.0        1.0             0   42.0   \n",
       "2             2        2.0       1.0        2.0             0   65.0   \n",
       "3             2        1.0       1.0        1.0             0  166.0   \n",
       "4             2        1.0       1.0        1.0             0  165.0   \n",
       "\n",
       "   bed_type_Airbed  bed_type_Couch  bed_type_Futon  bed_type_Pull-out Sofa  \\\n",
       "0                0               0               0                       0   \n",
       "1                0               0               0                       0   \n",
       "2                0               0               0                       0   \n",
       "3                0               0               0                       0   \n",
       "4                0               0               0                       0   \n",
       "\n",
       "   ...  property_type_Tipi  property_type_Townhouse  property_type_Train  \\\n",
       "0  ...                   0                        0                    0   \n",
       "1  ...                   0                        0                    0   \n",
       "2  ...                   0                        0                    0   \n",
       "3  ...                   0                        0                    0   \n",
       "4  ...                   0                        0                    0   \n",
       "\n",
       "   property_type_Treehouse  property_type_Vacation home  property_type_Villa  \\\n",
       "0                        0                            0                    0   \n",
       "1                        0                            0                    0   \n",
       "2                        0                            0                    0   \n",
       "3                        0                            0                    0   \n",
       "4                        0                            0                    0   \n",
       "\n",
       "   property_type_Yurt  room_type_Entire home/apt  room_type_Private room  \\\n",
       "0                   0                          0                       1   \n",
       "1                   0                          0                       1   \n",
       "2                   0                          0                       1   \n",
       "3                   0                          0                       1   \n",
       "4                   0                          1                       0   \n",
       "\n",
       "   room_type_Shared room  \n",
       "0                      0  \n",
       "1                      0  \n",
       "2                      0  \n",
       "3                      0  \n",
       "4                      0  \n",
       "\n",
       "[5 rows x 47 columns]"
      ]
     },
     "execution_count": 509,
     "metadata": {},
     "output_type": "execute_result"
    }
   ],
   "source": [
    "con_copy.head()"
   ]
  },
  {
   "cell_type": "code",
   "execution_count": 510,
   "id": "quick-liability",
   "metadata": {},
   "outputs": [
    {
     "name": "stdout",
     "output_type": "stream",
     "text": [
      "<class 'pandas.core.frame.DataFrame'>\n",
      "Int64Index: 55369 entries, 0 to 55582\n",
      "Data columns (total 47 columns):\n",
      " #   Column                            Non-Null Count  Dtype  \n",
      "---  ------                            --------------  -----  \n",
      " 0   accommodates                      55369 non-null  int64  \n",
      " 1   bathrooms                         55369 non-null  float64\n",
      " 2   bedrooms                          55369 non-null  float64\n",
      " 3   bathrooms                         55369 non-null  float64\n",
      " 4   cleaning_fee                      55369 non-null  int64  \n",
      " 5   y                                 55369 non-null  float64\n",
      " 6   bed_type_Airbed                   55369 non-null  uint8  \n",
      " 7   bed_type_Couch                    55369 non-null  uint8  \n",
      " 8   bed_type_Futon                    55369 non-null  uint8  \n",
      " 9   bed_type_Pull-out Sofa            55369 non-null  uint8  \n",
      " 10  bed_type_Real Bed                 55369 non-null  uint8  \n",
      " 11  property_type_Apartment           55369 non-null  uint8  \n",
      " 12  property_type_Bed & Breakfast     55369 non-null  uint8  \n",
      " 13  property_type_Boat                55369 non-null  uint8  \n",
      " 14  property_type_Boutique hotel      55369 non-null  uint8  \n",
      " 15  property_type_Bungalow            55369 non-null  uint8  \n",
      " 16  property_type_Cabin               55369 non-null  uint8  \n",
      " 17  property_type_Camper/RV           55369 non-null  uint8  \n",
      " 18  property_type_Casa particular     55369 non-null  uint8  \n",
      " 19  property_type_Castle              55369 non-null  uint8  \n",
      " 20  property_type_Cave                55369 non-null  uint8  \n",
      " 21  property_type_Chalet              55369 non-null  uint8  \n",
      " 22  property_type_Condominium         55369 non-null  uint8  \n",
      " 23  property_type_Dorm                55369 non-null  uint8  \n",
      " 24  property_type_Earth House         55369 non-null  uint8  \n",
      " 25  property_type_Guest suite         55369 non-null  uint8  \n",
      " 26  property_type_Guesthouse          55369 non-null  uint8  \n",
      " 27  property_type_Hostel              55369 non-null  uint8  \n",
      " 28  property_type_House               55369 non-null  uint8  \n",
      " 29  property_type_Hut                 55369 non-null  uint8  \n",
      " 30  property_type_In-law              55369 non-null  uint8  \n",
      " 31  property_type_Island              55369 non-null  uint8  \n",
      " 32  property_type_Loft                55369 non-null  uint8  \n",
      " 33  property_type_Other               55369 non-null  uint8  \n",
      " 34  property_type_Serviced apartment  55369 non-null  uint8  \n",
      " 35  property_type_Tent                55369 non-null  uint8  \n",
      " 36  property_type_Timeshare           55369 non-null  uint8  \n",
      " 37  property_type_Tipi                55369 non-null  uint8  \n",
      " 38  property_type_Townhouse           55369 non-null  uint8  \n",
      " 39  property_type_Train               55369 non-null  uint8  \n",
      " 40  property_type_Treehouse           55369 non-null  uint8  \n",
      " 41  property_type_Vacation home       55369 non-null  uint8  \n",
      " 42  property_type_Villa               55369 non-null  uint8  \n",
      " 43  property_type_Yurt                55369 non-null  uint8  \n",
      " 44  room_type_Entire home/apt         55369 non-null  uint8  \n",
      " 45  room_type_Private room            55369 non-null  uint8  \n",
      " 46  room_type_Shared room             55369 non-null  uint8  \n",
      "dtypes: float64(4), int64(2), uint8(41)\n",
      "memory usage: 5.1 MB\n"
     ]
    }
   ],
   "source": [
    "con_copy.info()"
   ]
  },
  {
   "cell_type": "code",
   "execution_count": 511,
   "id": "sensitive-reasoning",
   "metadata": {},
   "outputs": [],
   "source": [
    "#con_copy = con_copy.astype(\"bool\")"
   ]
  },
  {
   "cell_type": "code",
   "execution_count": 512,
   "id": "listed-intersection",
   "metadata": {},
   "outputs": [],
   "source": [
    "train = con_copy.values\n",
    "y = con_copy.values"
   ]
  },
  {
   "cell_type": "code",
   "execution_count": 513,
   "id": "bright-kazakhstan",
   "metadata": {},
   "outputs": [],
   "source": [
    "from sklearn.model_selection import train_test_split"
   ]
  },
  {
   "cell_type": "code",
   "execution_count": 514,
   "id": "grand-depth",
   "metadata": {},
   "outputs": [],
   "source": [
    "X_test,X_train,y_test,y_train = train_test_split(train,y, test_size=0.3)"
   ]
  },
  {
   "cell_type": "code",
   "execution_count": 515,
   "id": "timely-camping",
   "metadata": {},
   "outputs": [],
   "source": [
    "from sklearn.linear_model import LinearRegression\n",
    "lr = LinearRegression()"
   ]
  },
  {
   "cell_type": "code",
   "execution_count": 516,
   "id": "surprising-terminal",
   "metadata": {},
   "outputs": [
    {
     "data": {
      "text/plain": [
       "LinearRegression()"
      ]
     },
     "execution_count": 516,
     "metadata": {},
     "output_type": "execute_result"
    }
   ],
   "source": [
    "lr.fit(X_train,y_train)"
   ]
  },
  {
   "cell_type": "code",
   "execution_count": 517,
   "id": "radical-minnesota",
   "metadata": {},
   "outputs": [
    {
     "data": {
      "text/plain": [
       "(16611, 47)"
      ]
     },
     "execution_count": 517,
     "metadata": {},
     "output_type": "execute_result"
    }
   ],
   "source": [
    "X_train.shape"
   ]
  },
  {
   "cell_type": "code",
   "execution_count": 518,
   "id": "characteristic-passport",
   "metadata": {},
   "outputs": [
    {
     "data": {
      "text/plain": [
       "(38758, 47)"
      ]
     },
     "execution_count": 518,
     "metadata": {},
     "output_type": "execute_result"
    }
   ],
   "source": [
    "X_test.shape"
   ]
  },
  {
   "cell_type": "code",
   "execution_count": 519,
   "id": "unable-providence",
   "metadata": {},
   "outputs": [
    {
     "data": {
      "text/plain": [
       "(16611, 47)"
      ]
     },
     "execution_count": 519,
     "metadata": {},
     "output_type": "execute_result"
    }
   ],
   "source": [
    "y_train.shape"
   ]
  },
  {
   "cell_type": "code",
   "execution_count": 520,
   "id": "future-nirvana",
   "metadata": {},
   "outputs": [
    {
     "data": {
      "text/plain": [
       "(38758, 47)"
      ]
     },
     "execution_count": 520,
     "metadata": {},
     "output_type": "execute_result"
    }
   ],
   "source": [
    "y_test.shape"
   ]
  },
  {
   "cell_type": "code",
   "execution_count": 521,
   "id": "civic-librarian",
   "metadata": {},
   "outputs": [],
   "source": [
    "y_test_pred = lr.predict(X_test)"
   ]
  },
  {
   "cell_type": "code",
   "execution_count": 522,
   "id": "hairy-berkeley",
   "metadata": {},
   "outputs": [
    {
     "name": "stdout",
     "output_type": "stream",
     "text": [
      "\n",
      "[Estimated values of the params]\n",
      "  Intercept    : [ 5.77315973e-15  1.06581410e-14 -2.28705943e-14  1.06581410e-14\n",
      " -3.21964677e-15 -8.81072992e-13  2.00000000e-01  2.00000000e-01\n",
      "  2.00000000e-01  2.00000000e-01  2.00000000e-01  3.33333333e-02\n",
      "  3.33333333e-02  3.33333333e-02  3.33333333e-02  3.33333333e-02\n",
      "  3.33333333e-02  3.33333333e-02  0.00000000e+00  3.33333333e-02\n",
      "  0.00000000e+00  3.33333333e-02  3.33333333e-02  3.33333333e-02\n",
      "  3.33333333e-02  3.33333333e-02  3.33333333e-02  3.33333333e-02\n",
      "  3.33333333e-02  3.33333333e-02  3.33333333e-02  0.00000000e+00\n",
      "  3.33333333e-02  3.33333333e-02  3.33333333e-02  3.33333333e-02\n",
      "  3.33333333e-02  3.33333333e-02  3.33333333e-02  3.33333333e-02\n",
      "  3.33333333e-02  3.33333333e-02  3.33333333e-02  3.33333333e-02\n",
      "  3.33333333e-01  3.33333333e-01  3.33333333e-01]\n",
      "  Coefficient  : [[ 1.00000000e+00  4.62492453e-16 -3.07240430e-15 ... -5.85179591e-16\n",
      "   5.44689854e-16  4.04897372e-17]\n",
      " [ 2.11565763e-14  5.00000000e-01  5.55111512e-15 ...  1.15577790e-14\n",
      "   1.07156309e-14  1.15244321e-14]\n",
      " [ 6.96949667e-15 -2.21324695e-14  1.00000000e+00 ... -3.53753485e-15\n",
      "  -3.76291337e-15 -4.49426195e-15]\n",
      " ...\n",
      " [-7.22918102e-15 -1.12227935e-14 -7.21644966e-16 ...  6.66666667e-01\n",
      "  -3.33333333e-01 -3.33333333e-01]\n",
      " [ 5.90362691e-15 -1.93733918e-14  1.22124533e-15 ... -3.33333333e-01\n",
      "   6.66666667e-01 -3.33333333e-01]\n",
      " [ 1.46438502e-15  3.05333016e-14 -1.11022302e-16 ... -3.33333333e-01\n",
      "  -3.33333333e-01  6.66666667e-01]]\n"
     ]
    }
   ],
   "source": [
    "print('\\n[Estimated values of the params]')\n",
    "print('  Intercept    :', lr.intercept_)\n",
    "print('  Coefficient  :', lr.coef_)"
   ]
  },
  {
   "cell_type": "code",
   "execution_count": 523,
   "id": "novel-incidence",
   "metadata": {},
   "outputs": [
    {
     "name": "stdout",
     "output_type": "stream",
     "text": [
      "\n",
      "[Model evaluation]\n",
      "  R^2 on train               : 1.00000\n",
      "  R^2 on test                : 0.93588\n",
      "  MAE  (Mean-Absolute-Error) : 3.293760643273743e-06\n",
      "  MSE  (Mean-Squared-Error)  : 1.7017763251073482e-06\n",
      "  RMSE (Rooted-MSE)          : 0.0013045214927732498\n"
     ]
    }
   ],
   "source": [
    "from sklearn.metrics import mean_absolute_error, mean_squared_error\n",
    "print('\\n[Model evaluation]')\n",
    "print('  R^2 on train               : %.5f' % lr.score(X_train, y_train))\n",
    "print('  R^2 on test                : %.5f' % lr.score(X_test, y_test))\n",
    "print('  MAE  (Mean-Absolute-Error) :',  mean_absolute_error(y_test, y_test_pred))\n",
    "print('  MSE  (Mean-Squared-Error)  :',  mean_squared_error(y_test, y_test_pred))\n",
    "print('  RMSE (Rooted-MSE)          :',  np.sqrt(mean_squared_error(y_test, y_test_pred)))"
   ]
  },
  {
   "cell_type": "code",
   "execution_count": 524,
   "id": "fifth-paste",
   "metadata": {},
   "outputs": [
    {
     "data": {
      "text/plain": [
       "id                           0\n",
       "accommodates                 0\n",
       "amenities                    0\n",
       "bathrooms                   53\n",
       "bed_type                     0\n",
       "bedrooms                    20\n",
       "beds                        35\n",
       "cancellation_policy          0\n",
       "city                         0\n",
       "cleaning_fee                 0\n",
       "description                  0\n",
       "first_review              3956\n",
       "host_has_profile_pic        40\n",
       "host_identity_verified      40\n",
       "host_response_rate        4595\n",
       "host_since                  40\n",
       "instant_bookable             0\n",
       "last_review               3947\n",
       "latitude                     0\n",
       "longitude                    0\n",
       "name                         0\n",
       "neighbourhood             1712\n",
       "number_of_reviews            0\n",
       "property_type                0\n",
       "review_scores_rating      4166\n",
       "room_type                    0\n",
       "thumbnail_url             2071\n",
       "zipcode                    250\n",
       "dtype: int64"
      ]
     },
     "execution_count": 524,
     "metadata": {},
     "output_type": "execute_result"
    }
   ],
   "source": [
    "test_data.isnull().sum()"
   ]
  },
  {
   "cell_type": "code",
   "execution_count": 525,
   "id": "approximate-express",
   "metadata": {},
   "outputs": [
    {
     "data": {
      "text/plain": [
       "(38758, 47)"
      ]
     },
     "execution_count": 525,
     "metadata": {},
     "output_type": "execute_result"
    }
   ],
   "source": [
    "y_test_pred.shape"
   ]
  },
  {
   "cell_type": "code",
   "execution_count": 526,
   "id": "instant-hampshire",
   "metadata": {},
   "outputs": [],
   "source": [
    "np.savetxt(\"テストデータ出力ファイル.csv\", y_test_pred, delimiter=\",\")"
   ]
  },
  {
   "cell_type": "code",
   "execution_count": 527,
   "id": "interracial-temperature",
   "metadata": {},
   "outputs": [],
   "source": [
    "test = pd.DataFrame(data = y_test_pred)"
   ]
  },
  {
   "cell_type": "code",
   "execution_count": 528,
   "id": "structural-helena",
   "metadata": {},
   "outputs": [],
   "source": [
    "test.reset_index(inplace=True)"
   ]
  },
  {
   "cell_type": "code",
   "execution_count": 529,
   "id": "proper-syria",
   "metadata": {},
   "outputs": [
    {
     "data": {
      "text/html": [
       "<div>\n",
       "<style scoped>\n",
       "    .dataframe tbody tr th:only-of-type {\n",
       "        vertical-align: middle;\n",
       "    }\n",
       "\n",
       "    .dataframe tbody tr th {\n",
       "        vertical-align: top;\n",
       "    }\n",
       "\n",
       "    .dataframe thead th {\n",
       "        text-align: right;\n",
       "    }\n",
       "</style>\n",
       "<table border=\"1\" class=\"dataframe\">\n",
       "  <thead>\n",
       "    <tr style=\"text-align: right;\">\n",
       "      <th></th>\n",
       "      <th>index</th>\n",
       "      <th>0</th>\n",
       "      <th>1</th>\n",
       "      <th>2</th>\n",
       "      <th>3</th>\n",
       "      <th>4</th>\n",
       "      <th>5</th>\n",
       "      <th>6</th>\n",
       "      <th>7</th>\n",
       "      <th>8</th>\n",
       "      <th>...</th>\n",
       "      <th>37</th>\n",
       "      <th>38</th>\n",
       "      <th>39</th>\n",
       "      <th>40</th>\n",
       "      <th>41</th>\n",
       "      <th>42</th>\n",
       "      <th>43</th>\n",
       "      <th>44</th>\n",
       "      <th>45</th>\n",
       "      <th>46</th>\n",
       "    </tr>\n",
       "  </thead>\n",
       "  <tbody>\n",
       "    <tr>\n",
       "      <th>0</th>\n",
       "      <td>0</td>\n",
       "      <td>4.0</td>\n",
       "      <td>3.0</td>\n",
       "      <td>1.0</td>\n",
       "      <td>3.0</td>\n",
       "      <td>1.000000e+00</td>\n",
       "      <td>60.0</td>\n",
       "      <td>2.747802e-15</td>\n",
       "      <td>5.551115e-16</td>\n",
       "      <td>3.330669e-16</td>\n",
       "      <td>...</td>\n",
       "      <td>-1.713907e-15</td>\n",
       "      <td>-4.621303e-15</td>\n",
       "      <td>-2.428613e-15</td>\n",
       "      <td>1.734723e-16</td>\n",
       "      <td>1.318390e-15</td>\n",
       "      <td>-3.622103e-15</td>\n",
       "      <td>-7.077672e-16</td>\n",
       "      <td>-2.126077e-14</td>\n",
       "      <td>1.193490e-14</td>\n",
       "      <td>1.000000e+00</td>\n",
       "    </tr>\n",
       "    <tr>\n",
       "      <th>1</th>\n",
       "      <td>1</td>\n",
       "      <td>2.0</td>\n",
       "      <td>1.0</td>\n",
       "      <td>1.0</td>\n",
       "      <td>1.0</td>\n",
       "      <td>1.000000e+00</td>\n",
       "      <td>37.0</td>\n",
       "      <td>3.275158e-15</td>\n",
       "      <td>8.049117e-16</td>\n",
       "      <td>2.220446e-16</td>\n",
       "      <td>...</td>\n",
       "      <td>-2.726985e-15</td>\n",
       "      <td>-1.346145e-15</td>\n",
       "      <td>-3.448630e-15</td>\n",
       "      <td>-3.469447e-17</td>\n",
       "      <td>1.235123e-15</td>\n",
       "      <td>-4.309053e-15</td>\n",
       "      <td>-1.124101e-15</td>\n",
       "      <td>-1.532108e-14</td>\n",
       "      <td>3.330669e-15</td>\n",
       "      <td>1.000000e+00</td>\n",
       "    </tr>\n",
       "    <tr>\n",
       "      <th>2</th>\n",
       "      <td>2</td>\n",
       "      <td>1.0</td>\n",
       "      <td>1.0</td>\n",
       "      <td>1.0</td>\n",
       "      <td>1.0</td>\n",
       "      <td>1.000000e+00</td>\n",
       "      <td>175.0</td>\n",
       "      <td>-5.551115e-16</td>\n",
       "      <td>-1.110223e-16</td>\n",
       "      <td>-1.110223e-16</td>\n",
       "      <td>...</td>\n",
       "      <td>2.844947e-16</td>\n",
       "      <td>-1.040834e-16</td>\n",
       "      <td>3.122502e-16</td>\n",
       "      <td>-3.469447e-17</td>\n",
       "      <td>-1.734723e-16</td>\n",
       "      <td>2.567391e-16</td>\n",
       "      <td>9.020562e-17</td>\n",
       "      <td>1.000000e+00</td>\n",
       "      <td>-1.676437e-14</td>\n",
       "      <td>-4.940492e-15</td>\n",
       "    </tr>\n",
       "    <tr>\n",
       "      <th>3</th>\n",
       "      <td>3</td>\n",
       "      <td>6.0</td>\n",
       "      <td>2.5</td>\n",
       "      <td>3.0</td>\n",
       "      <td>2.5</td>\n",
       "      <td>6.034258e-15</td>\n",
       "      <td>1500.0</td>\n",
       "      <td>-3.472223e-14</td>\n",
       "      <td>-9.353629e-15</td>\n",
       "      <td>3.330669e-16</td>\n",
       "      <td>...</td>\n",
       "      <td>3.040623e-14</td>\n",
       "      <td>-1.061651e-15</td>\n",
       "      <td>3.731737e-14</td>\n",
       "      <td>6.938894e-17</td>\n",
       "      <td>-1.379452e-14</td>\n",
       "      <td>4.532485e-14</td>\n",
       "      <td>1.165040e-14</td>\n",
       "      <td>1.000000e+00</td>\n",
       "      <td>-1.281752e-13</td>\n",
       "      <td>-1.470490e-13</td>\n",
       "    </tr>\n",
       "    <tr>\n",
       "      <th>4</th>\n",
       "      <td>4</td>\n",
       "      <td>6.0</td>\n",
       "      <td>1.5</td>\n",
       "      <td>3.0</td>\n",
       "      <td>1.5</td>\n",
       "      <td>1.000000e+00</td>\n",
       "      <td>525.0</td>\n",
       "      <td>-9.353629e-15</td>\n",
       "      <td>-2.303713e-15</td>\n",
       "      <td>4.440892e-16</td>\n",
       "      <td>...</td>\n",
       "      <td>8.153200e-15</td>\n",
       "      <td>1.193490e-15</td>\n",
       "      <td>1.003364e-14</td>\n",
       "      <td>-2.775558e-17</td>\n",
       "      <td>-3.788636e-15</td>\n",
       "      <td>1.242062e-14</td>\n",
       "      <td>3.018419e-15</td>\n",
       "      <td>1.000000e+00</td>\n",
       "      <td>-2.398082e-14</td>\n",
       "      <td>-3.724798e-14</td>\n",
       "    </tr>\n",
       "  </tbody>\n",
       "</table>\n",
       "<p>5 rows × 48 columns</p>\n",
       "</div>"
      ],
      "text/plain": [
       "   index    0    1    2    3             4       5             6  \\\n",
       "0      0  4.0  3.0  1.0  3.0  1.000000e+00    60.0  2.747802e-15   \n",
       "1      1  2.0  1.0  1.0  1.0  1.000000e+00    37.0  3.275158e-15   \n",
       "2      2  1.0  1.0  1.0  1.0  1.000000e+00   175.0 -5.551115e-16   \n",
       "3      3  6.0  2.5  3.0  2.5  6.034258e-15  1500.0 -3.472223e-14   \n",
       "4      4  6.0  1.5  3.0  1.5  1.000000e+00   525.0 -9.353629e-15   \n",
       "\n",
       "              7             8  ...            37            38            39  \\\n",
       "0  5.551115e-16  3.330669e-16  ... -1.713907e-15 -4.621303e-15 -2.428613e-15   \n",
       "1  8.049117e-16  2.220446e-16  ... -2.726985e-15 -1.346145e-15 -3.448630e-15   \n",
       "2 -1.110223e-16 -1.110223e-16  ...  2.844947e-16 -1.040834e-16  3.122502e-16   \n",
       "3 -9.353629e-15  3.330669e-16  ...  3.040623e-14 -1.061651e-15  3.731737e-14   \n",
       "4 -2.303713e-15  4.440892e-16  ...  8.153200e-15  1.193490e-15  1.003364e-14   \n",
       "\n",
       "             40            41            42            43            44  \\\n",
       "0  1.734723e-16  1.318390e-15 -3.622103e-15 -7.077672e-16 -2.126077e-14   \n",
       "1 -3.469447e-17  1.235123e-15 -4.309053e-15 -1.124101e-15 -1.532108e-14   \n",
       "2 -3.469447e-17 -1.734723e-16  2.567391e-16  9.020562e-17  1.000000e+00   \n",
       "3  6.938894e-17 -1.379452e-14  4.532485e-14  1.165040e-14  1.000000e+00   \n",
       "4 -2.775558e-17 -3.788636e-15  1.242062e-14  3.018419e-15  1.000000e+00   \n",
       "\n",
       "             45            46  \n",
       "0  1.193490e-14  1.000000e+00  \n",
       "1  3.330669e-15  1.000000e+00  \n",
       "2 -1.676437e-14 -4.940492e-15  \n",
       "3 -1.281752e-13 -1.470490e-13  \n",
       "4 -2.398082e-14 -3.724798e-14  \n",
       "\n",
       "[5 rows x 48 columns]"
      ]
     },
     "execution_count": 529,
     "metadata": {},
     "output_type": "execute_result"
    }
   ],
   "source": [
    "test.head()"
   ]
  },
  {
   "cell_type": "code",
   "execution_count": 530,
   "id": "private-kenya",
   "metadata": {},
   "outputs": [],
   "source": [
    "test = test[[\"index\",46]]"
   ]
  },
  {
   "cell_type": "code",
   "execution_count": 531,
   "id": "animal-drain",
   "metadata": {},
   "outputs": [],
   "source": [
    "test.to_csv('file.csv', header=False, index=False)"
   ]
  },
  {
   "cell_type": "code",
   "execution_count": 532,
   "id": "least-figure",
   "metadata": {},
   "outputs": [],
   "source": [
    "from sklearn.linear_model import Lasso, Ridge"
   ]
  },
  {
   "cell_type": "code",
   "execution_count": 533,
   "id": "available-courtesy",
   "metadata": {},
   "outputs": [],
   "source": [
    "ridge = Ridge().fit(X_train,y_train)"
   ]
  },
  {
   "cell_type": "code",
   "execution_count": 537,
   "id": "reliable-battery",
   "metadata": {},
   "outputs": [
    {
     "name": "stdout",
     "output_type": "stream",
     "text": [
      "0.97\n",
      "0.906\n"
     ]
    }
   ],
   "source": [
    "print(round(ridge.score(X_train,y_train),3))\n",
    "print(round(ridge.score(X_test,y_test),3))"
   ]
  },
  {
   "cell_type": "code",
   "execution_count": 538,
   "id": "congressional-utility",
   "metadata": {},
   "outputs": [
    {
     "name": "stdout",
     "output_type": "stream",
     "text": [
      "1.0\n",
      "0.936\n"
     ]
    }
   ],
   "source": [
    "print(round(lr.score(X_train,y_train),3))\n",
    "print(round(lr.score(X_test,y_test),3))"
   ]
  },
  {
   "cell_type": "code",
   "execution_count": 540,
   "id": "round-building",
   "metadata": {},
   "outputs": [
    {
     "name": "stderr",
     "output_type": "stream",
     "text": [
      "/Users/yoshitakanishikawa/.pyenv/versions/3.8.2/lib/python3.8/site-packages/sklearn/linear_model/_coordinate_descent.py:529: ConvergenceWarning: Objective did not converge. You might want to increase the number of iterations. Duality gap: 0.0, tolerance: 0.0\n",
      "  model = cd_fast.enet_coordinate_descent(\n"
     ]
    }
   ],
   "source": [
    "Lasso = Lasso().fit(X_train,y_train)"
   ]
  },
  {
   "cell_type": "code",
   "execution_count": 541,
   "id": "marked-youth",
   "metadata": {},
   "outputs": [
    {
     "name": "stdout",
     "output_type": "stream",
     "text": [
      "0.126\n",
      "0.062\n"
     ]
    }
   ],
   "source": [
    "print(round(Lasso.score(X_train,y_train),3))\n",
    "print(round(Lasso.score(X_test,y_test),3))"
   ]
  },
  {
   "cell_type": "code",
   "execution_count": 543,
   "id": "advanced-promotion",
   "metadata": {},
   "outputs": [
    {
     "data": {
      "text/plain": [
       "array([[ 4.00000000e+00,  3.00000000e+00,  1.00000000e+00, ...,\n",
       "        -4.20219415e-14,  2.43693954e-14,  1.00000000e+00],\n",
       "       [ 2.00000000e+00,  1.00000000e+00,  1.00000000e+00, ...,\n",
       "        -3.01980663e-14,  7.10542736e-15,  1.00000000e+00],\n",
       "       [ 1.00000000e+00,  1.00000000e+00,  1.00000000e+00, ...,\n",
       "         1.00000000e+00, -3.33622019e-14, -9.71445147e-15],\n",
       "       ...,\n",
       "       [ 5.00000000e+00,  1.00000000e+00,  1.00000000e+00, ...,\n",
       "         1.00000000e+00,  4.55191440e-14,  2.57571742e-14],\n",
       "       [ 8.00000000e+00,  2.50000000e+00,  3.00000000e+00, ...,\n",
       "         1.00000000e+00, -2.41640041e-13, -2.89046564e-13],\n",
       "       [ 2.00000000e+00,  1.00000000e+00,  1.00000000e+00, ...,\n",
       "         1.27675648e-15,  1.00000000e+00,  9.38138456e-15]])"
      ]
     },
     "execution_count": 543,
     "metadata": {},
     "output_type": "execute_result"
    }
   ],
   "source": [
    "lr.predict(y_test_pred)"
   ]
  },
  {
   "cell_type": "code",
   "execution_count": null,
   "id": "dangerous-conjunction",
   "metadata": {},
   "outputs": [],
   "source": []
  },
  {
   "cell_type": "code",
   "execution_count": null,
   "id": "caring-weekly",
   "metadata": {},
   "outputs": [],
   "source": []
  }
 ],
 "metadata": {
  "kernelspec": {
   "display_name": "Python 3 (ipykernel)",
   "language": "python",
   "name": "python3"
  },
  "language_info": {
   "codemirror_mode": {
    "name": "ipython",
    "version": 3
   },
   "file_extension": ".py",
   "mimetype": "text/x-python",
   "name": "python",
   "nbconvert_exporter": "python",
   "pygments_lexer": "ipython3",
   "version": "3.8.2"
  }
 },
 "nbformat": 4,
 "nbformat_minor": 5
}
