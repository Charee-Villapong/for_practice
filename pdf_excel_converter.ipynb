{
  "nbformat": 4,
  "nbformat_minor": 0,
  "metadata": {
    "colab": {
      "name": "pdf_excel converter.ipynb",
      "provenance": [],
      "mount_file_id": "18ULKUUXVcckf4cqzTtllM-lwMoTF--xY",
      "authorship_tag": "ABX9TyPKhRl1az/X3TYqYLY1J7Bl",
      "include_colab_link": true
    },
    "kernelspec": {
      "name": "python3",
      "display_name": "Python 3"
    },
    "language_info": {
      "name": "python"
    }
  },
  "cells": [
    {
      "cell_type": "markdown",
      "metadata": {
        "id": "view-in-github",
        "colab_type": "text"
      },
      "source": [
        "<a href=\"https://colab.research.google.com/github/Charee-Villapong/charee-villapong/blob/master/pdf_excel_converter.ipynb\" target=\"_parent\"><img src=\"https://colab.research.google.com/assets/colab-badge.svg\" alt=\"Open In Colab\"/></a>"
      ]
    },
    {
      "cell_type": "code",
      "metadata": {
        "id": "3KxdfZNttUdL"
      },
      "source": [
        "!pip install -q tabula-py"
      ],
      "execution_count": 70,
      "outputs": []
    },
    {
      "cell_type": "code",
      "metadata": {
        "colab": {
          "base_uri": "https://localhost:8080/"
        },
        "id": "vuDtlVDn4K7n",
        "outputId": "28002651-3f9a-465f-f40c-879dfe2156b0"
      },
      "source": [
        "!pip install openpyxl"
      ],
      "execution_count": 71,
      "outputs": [
        {
          "output_type": "stream",
          "name": "stdout",
          "text": [
            "Requirement already satisfied: openpyxl in /usr/local/lib/python3.7/dist-packages (2.5.9)\n",
            "Requirement already satisfied: jdcal in /usr/local/lib/python3.7/dist-packages (from openpyxl) (1.4.1)\n",
            "Requirement already satisfied: et-xmlfile in /usr/local/lib/python3.7/dist-packages (from openpyxl) (1.1.0)\n"
          ]
        }
      ]
    },
    {
      "cell_type": "code",
      "metadata": {
        "colab": {
          "base_uri": "https://localhost:8080/"
        },
        "id": "aNIPXFwztVh6",
        "outputId": "d2af9533-23de-4262-f075-072131dd1a06"
      },
      "source": [
        "!java -version"
      ],
      "execution_count": 72,
      "outputs": [
        {
          "output_type": "stream",
          "name": "stdout",
          "text": [
            "openjdk version \"11.0.11\" 2021-04-20\n",
            "OpenJDK Runtime Environment (build 11.0.11+9-Ubuntu-0ubuntu2.18.04)\n",
            "OpenJDK 64-Bit Server VM (build 11.0.11+9-Ubuntu-0ubuntu2.18.04, mixed mode, sharing)\n"
          ]
        }
      ]
    },
    {
      "cell_type": "code",
      "metadata": {
        "colab": {
          "base_uri": "https://localhost:8080/"
        },
        "id": "f8s1kjrVtlp4",
        "outputId": "19be5342-d056-4ab3-9d46-d8e288043d4a"
      },
      "source": [
        "import tabula\n",
        "\n",
        "tabula.environment_info()"
      ],
      "execution_count": 73,
      "outputs": [
        {
          "output_type": "stream",
          "name": "stdout",
          "text": [
            "Python version:\n",
            "    3.7.12 (default, Sep 10 2021, 00:21:48) \n",
            "[GCC 7.5.0]\n",
            "Java version:\n",
            "    openjdk version \"11.0.11\" 2021-04-20\n",
            "OpenJDK Runtime Environment (build 11.0.11+9-Ubuntu-0ubuntu2.18.04)\n",
            "OpenJDK 64-Bit Server VM (build 11.0.11+9-Ubuntu-0ubuntu2.18.04, mixed mode, sharing)\n",
            "tabula-py version: 2.3.0\n",
            "platform: Linux-5.4.104+-x86_64-with-Ubuntu-18.04-bionic\n",
            "uname:\n",
            "    uname_result(system='Linux', node='090cc395ec77', release='5.4.104+', version='#1 SMP Sat Jun 5 09:50:34 PDT 2021', machine='x86_64', processor='x86_64')\n",
            "linux_distribution: ('Ubuntu', '18.04', 'bionic')\n",
            "mac_ver: ('', ('', '', ''), '')\n",
            "    \n"
          ]
        }
      ]
    },
    {
      "cell_type": "code",
      "metadata": {
        "id": "-r4hJuuDuNcI"
      },
      "source": [
        "import tabula\n",
        "pdf_path = \"/content/drive/MyDrive/04_h2-1.pdf\""
      ],
      "execution_count": 74,
      "outputs": []
    },
    {
      "cell_type": "code",
      "metadata": {
        "colab": {
          "base_uri": "https://localhost:8080/"
        },
        "id": "3DRFtwzduXd1",
        "outputId": "bab9ec21-487e-4c59-9386-8f022194f026"
      },
      "source": [
        "dfs = tabula.read_pdf(pdf_path, stream=True,pages=\"1\")"
      ],
      "execution_count": 75,
      "outputs": [
        {
          "output_type": "stream",
          "name": "stderr",
          "text": [
            "Got stderr: Nov 27, 2021 1:13:20 AM org.apache.pdfbox.pdmodel.font.PDCIDFontType2 findFontOrSubstitute\n",
            "WARNING: Using fallback font LiberationSans for CID-keyed TrueType font ‚l‚r–¾’©\n",
            "Nov 27, 2021 1:13:20 AM org.apache.pdfbox.pdmodel.font.PDCIDFontType2 findFontOrSubstitute\n",
            "WARNING: Using fallback font LiberationSans for CID-keyed TrueType font ‚l‚rƒSƒVƒbƒN\n",
            "Nov 27, 2021 1:13:21 AM org.apache.pdfbox.rendering.TTFGlyph2D getPathForGID\n",
            "WARNING: No glyph for code 37350 (CID 0b48) in font ‚l‚r–¾’©\n",
            "Nov 27, 2021 1:13:21 AM org.apache.pdfbox.rendering.TTFGlyph2D getPathForGID\n",
            "WARNING: No glyph for code 33186 (CID 02da) in font ‚l‚rƒSƒVƒbƒN\n",
            "Nov 27, 2021 1:13:21 AM org.apache.pdfbox.pdmodel.font.PDCIDFontType2 findFontOrSubstitute\n",
            "WARNING: Using fallback font LiberationSans for CID-keyed TrueType font ‚l‚r–¾’©\n",
            "Nov 27, 2021 1:13:21 AM org.apache.pdfbox.pdmodel.font.PDCIDFontType2 findFontOrSubstitute\n",
            "WARNING: Using fallback font LiberationSans for CID-keyed TrueType font ‚l‚rƒSƒVƒbƒN\n",
            "\n"
          ]
        }
      ]
    },
    {
      "cell_type": "code",
      "metadata": {
        "colab": {
          "base_uri": "https://localhost:8080/",
          "height": 436
        },
        "id": "gm0gK9zeuk43",
        "outputId": "2f277738-3ad0-4f0d-9aad-f1f4eec567c8"
      },
      "source": [
        "print(len(dfs))\n",
        "dfs[0]"
      ],
      "execution_count": 76,
      "outputs": [
        {
          "output_type": "stream",
          "name": "stdout",
          "text": [
            "1\n"
          ]
        },
        {
          "output_type": "execute_result",
          "data": {
            "text/html": [
              "<div>\n",
              "<style scoped>\n",
              "    .dataframe tbody tr th:only-of-type {\n",
              "        vertical-align: middle;\n",
              "    }\n",
              "\n",
              "    .dataframe tbody tr th {\n",
              "        vertical-align: top;\n",
              "    }\n",
              "\n",
              "    .dataframe thead th {\n",
              "        text-align: right;\n",
              "    }\n",
              "</style>\n",
              "<table border=\"1\" class=\"dataframe\">\n",
              "  <thead>\n",
              "    <tr style=\"text-align: right;\">\n",
              "      <th></th>\n",
              "      <th>Unnamed: 0</th>\n",
              "      <th>Unnamed: 1</th>\n",
              "      <th>Unnamed: 2</th>\n",
              "      <th>(再    掲)</th>\n",
              "      <th>Unnamed: 3</th>\n",
              "      <th>Unnamed: 4</th>\n",
              "    </tr>\n",
              "  </thead>\n",
              "  <tbody>\n",
              "    <tr>\n",
              "      <th>0</th>\n",
              "      <td>1)</td>\n",
              "      <td>NaN</td>\n",
              "      <td>NaN</td>\n",
              "      <td>NaN</td>\n",
              "      <td>NaN</td>\n",
              "      <td>NaN</td>\n",
              "    </tr>\n",
              "    <tr>\n",
              "      <th>1</th>\n",
              "      <td>年  次</td>\n",
              "      <td>出 生 数</td>\n",
              "      <td>死 亡 数</td>\n",
              "      <td>NaN</td>\n",
              "      <td>NaN</td>\n",
              "      <td>自然増減数</td>\n",
              "    </tr>\n",
              "    <tr>\n",
              "      <th>2</th>\n",
              "      <td>NaN</td>\n",
              "      <td>NaN</td>\n",
              "      <td>NaN</td>\n",
              "      <td>乳児死亡数 新生児死亡数</td>\n",
              "      <td>NaN</td>\n",
              "      <td>NaN</td>\n",
              "    </tr>\n",
              "    <tr>\n",
              "      <th>3</th>\n",
              "      <td>1947  昭和22年</td>\n",
              "      <td>2 678 792</td>\n",
              "      <td>1 138 238</td>\n",
              "      <td>205 360  84 204</td>\n",
              "      <td>NaN</td>\n",
              "      <td>1 540 554</td>\n",
              "    </tr>\n",
              "    <tr>\n",
              "      <th>4</th>\n",
              "      <td>48 23</td>\n",
              "      <td>2 681 624</td>\n",
              "      <td>950 610</td>\n",
              "      <td>165 406  73 855</td>\n",
              "      <td>NaN</td>\n",
              "      <td>1 731 014</td>\n",
              "    </tr>\n",
              "    <tr>\n",
              "      <th>...</th>\n",
              "      <td>...</td>\n",
              "      <td>...</td>\n",
              "      <td>...</td>\n",
              "      <td>...</td>\n",
              "      <td>...</td>\n",
              "      <td>...</td>\n",
              "    </tr>\n",
              "    <tr>\n",
              "      <th>72</th>\n",
              "      <td>16  28</td>\n",
              "      <td>977 242</td>\n",
              "      <td>1 308 158</td>\n",
              "      <td>1 929   875</td>\n",
              "      <td>△</td>\n",
              "      <td>330 916</td>\n",
              "    </tr>\n",
              "    <tr>\n",
              "      <th>73</th>\n",
              "      <td>17  29</td>\n",
              "      <td>946 146</td>\n",
              "      <td>1 340 567</td>\n",
              "      <td>1 762   833</td>\n",
              "      <td>△</td>\n",
              "      <td>394 421</td>\n",
              "    </tr>\n",
              "    <tr>\n",
              "      <th>74</th>\n",
              "      <td>18  30</td>\n",
              "      <td>918 400</td>\n",
              "      <td>1 362 470</td>\n",
              "      <td>1 748   801</td>\n",
              "      <td>△</td>\n",
              "      <td>444 070</td>\n",
              "    </tr>\n",
              "    <tr>\n",
              "      <th>75</th>\n",
              "      <td>19  令和元年</td>\n",
              "      <td>865 239</td>\n",
              "      <td>1 381 093</td>\n",
              "      <td>1 654   755</td>\n",
              "      <td>△</td>\n",
              "      <td>515 854</td>\n",
              "    </tr>\n",
              "    <tr>\n",
              "      <th>76</th>\n",
              "      <td>2020   2</td>\n",
              "      <td>840 835</td>\n",
              "      <td>1 372 755</td>\n",
              "      <td>1 512   704</td>\n",
              "      <td>△</td>\n",
              "      <td>5 31 920</td>\n",
              "    </tr>\n",
              "  </tbody>\n",
              "</table>\n",
              "<p>77 rows × 6 columns</p>\n",
              "</div>"
            ],
            "text/plain": [
              "     Unnamed: 0 Unnamed: 1 Unnamed: 2         (再    掲) Unnamed: 3 Unnamed: 4\n",
              "0            1)        NaN        NaN              NaN        NaN        NaN\n",
              "1          年  次      出 生 数      死 亡 数              NaN        NaN      自然増減数\n",
              "2           NaN        NaN        NaN     乳児死亡数 新生児死亡数        NaN        NaN\n",
              "3   1947  昭和22年  2 678 792  1 138 238  205 360  84 204        NaN  1 540 554\n",
              "4         48 23  2 681 624    950 610  165 406  73 855        NaN  1 731 014\n",
              "..          ...        ...        ...              ...        ...        ...\n",
              "72       16  28    977 242  1 308 158      1 929   875          △    330 916\n",
              "73       17  29    946 146  1 340 567      1 762   833          △    394 421\n",
              "74       18  30    918 400  1 362 470      1 748   801          △    444 070\n",
              "75     19  令和元年    865 239  1 381 093      1 654   755          △    515 854\n",
              "76     2020   2    840 835  1 372 755      1 512   704          △   5 31 920\n",
              "\n",
              "[77 rows x 6 columns]"
            ]
          },
          "metadata": {},
          "execution_count": 76
        }
      ]
    },
    {
      "cell_type": "code",
      "metadata": {
        "id": "oB8TwTud5M5I"
      },
      "source": [
        "#dfs[0].drop(range(0,1),axis=0,inplace=True)"
      ],
      "execution_count": 77,
      "outputs": []
    },
    {
      "cell_type": "code",
      "metadata": {
        "colab": {
          "base_uri": "https://localhost:8080/",
          "height": 419
        },
        "id": "ORM9DWlV5hPl",
        "outputId": "bb4d396a-c12b-404a-e6a4-e5b212747a18"
      },
      "source": [
        "columns=[\"年 次\",\"出 生 数\",\"死 亡 数\",\"乳児死亡数\",\"新生児死亡数\",\"自然増減数\"]\n",
        "#dfs[0].drop(range(1,3),axis=0,inplace=True)\n",
        "dfs[0].set_axis(columns,axis=\"columns\",inplace=True)\n",
        "dfs[0]\n"
      ],
      "execution_count": 78,
      "outputs": [
        {
          "output_type": "execute_result",
          "data": {
            "text/html": [
              "<div>\n",
              "<style scoped>\n",
              "    .dataframe tbody tr th:only-of-type {\n",
              "        vertical-align: middle;\n",
              "    }\n",
              "\n",
              "    .dataframe tbody tr th {\n",
              "        vertical-align: top;\n",
              "    }\n",
              "\n",
              "    .dataframe thead th {\n",
              "        text-align: right;\n",
              "    }\n",
              "</style>\n",
              "<table border=\"1\" class=\"dataframe\">\n",
              "  <thead>\n",
              "    <tr style=\"text-align: right;\">\n",
              "      <th></th>\n",
              "      <th>年 次</th>\n",
              "      <th>出 生 数</th>\n",
              "      <th>死 亡 数</th>\n",
              "      <th>乳児死亡数</th>\n",
              "      <th>新生児死亡数</th>\n",
              "      <th>自然増減数</th>\n",
              "    </tr>\n",
              "  </thead>\n",
              "  <tbody>\n",
              "    <tr>\n",
              "      <th>0</th>\n",
              "      <td>1)</td>\n",
              "      <td>NaN</td>\n",
              "      <td>NaN</td>\n",
              "      <td>NaN</td>\n",
              "      <td>NaN</td>\n",
              "      <td>NaN</td>\n",
              "    </tr>\n",
              "    <tr>\n",
              "      <th>1</th>\n",
              "      <td>年  次</td>\n",
              "      <td>出 生 数</td>\n",
              "      <td>死 亡 数</td>\n",
              "      <td>NaN</td>\n",
              "      <td>NaN</td>\n",
              "      <td>自然増減数</td>\n",
              "    </tr>\n",
              "    <tr>\n",
              "      <th>2</th>\n",
              "      <td>NaN</td>\n",
              "      <td>NaN</td>\n",
              "      <td>NaN</td>\n",
              "      <td>乳児死亡数 新生児死亡数</td>\n",
              "      <td>NaN</td>\n",
              "      <td>NaN</td>\n",
              "    </tr>\n",
              "    <tr>\n",
              "      <th>3</th>\n",
              "      <td>1947  昭和22年</td>\n",
              "      <td>2 678 792</td>\n",
              "      <td>1 138 238</td>\n",
              "      <td>205 360  84 204</td>\n",
              "      <td>NaN</td>\n",
              "      <td>1 540 554</td>\n",
              "    </tr>\n",
              "    <tr>\n",
              "      <th>4</th>\n",
              "      <td>48 23</td>\n",
              "      <td>2 681 624</td>\n",
              "      <td>950 610</td>\n",
              "      <td>165 406  73 855</td>\n",
              "      <td>NaN</td>\n",
              "      <td>1 731 014</td>\n",
              "    </tr>\n",
              "    <tr>\n",
              "      <th>...</th>\n",
              "      <td>...</td>\n",
              "      <td>...</td>\n",
              "      <td>...</td>\n",
              "      <td>...</td>\n",
              "      <td>...</td>\n",
              "      <td>...</td>\n",
              "    </tr>\n",
              "    <tr>\n",
              "      <th>72</th>\n",
              "      <td>16  28</td>\n",
              "      <td>977 242</td>\n",
              "      <td>1 308 158</td>\n",
              "      <td>1 929   875</td>\n",
              "      <td>△</td>\n",
              "      <td>330 916</td>\n",
              "    </tr>\n",
              "    <tr>\n",
              "      <th>73</th>\n",
              "      <td>17  29</td>\n",
              "      <td>946 146</td>\n",
              "      <td>1 340 567</td>\n",
              "      <td>1 762   833</td>\n",
              "      <td>△</td>\n",
              "      <td>394 421</td>\n",
              "    </tr>\n",
              "    <tr>\n",
              "      <th>74</th>\n",
              "      <td>18  30</td>\n",
              "      <td>918 400</td>\n",
              "      <td>1 362 470</td>\n",
              "      <td>1 748   801</td>\n",
              "      <td>△</td>\n",
              "      <td>444 070</td>\n",
              "    </tr>\n",
              "    <tr>\n",
              "      <th>75</th>\n",
              "      <td>19  令和元年</td>\n",
              "      <td>865 239</td>\n",
              "      <td>1 381 093</td>\n",
              "      <td>1 654   755</td>\n",
              "      <td>△</td>\n",
              "      <td>515 854</td>\n",
              "    </tr>\n",
              "    <tr>\n",
              "      <th>76</th>\n",
              "      <td>2020   2</td>\n",
              "      <td>840 835</td>\n",
              "      <td>1 372 755</td>\n",
              "      <td>1 512   704</td>\n",
              "      <td>△</td>\n",
              "      <td>5 31 920</td>\n",
              "    </tr>\n",
              "  </tbody>\n",
              "</table>\n",
              "<p>77 rows × 6 columns</p>\n",
              "</div>"
            ],
            "text/plain": [
              "            年 次      出 生 数      死 亡 数            乳児死亡数 新生児死亡数      自然増減数\n",
              "0            1)        NaN        NaN              NaN    NaN        NaN\n",
              "1          年  次      出 生 数      死 亡 数              NaN    NaN      自然増減数\n",
              "2           NaN        NaN        NaN     乳児死亡数 新生児死亡数    NaN        NaN\n",
              "3   1947  昭和22年  2 678 792  1 138 238  205 360  84 204    NaN  1 540 554\n",
              "4         48 23  2 681 624    950 610  165 406  73 855    NaN  1 731 014\n",
              "..          ...        ...        ...              ...    ...        ...\n",
              "72       16  28    977 242  1 308 158      1 929   875      △    330 916\n",
              "73       17  29    946 146  1 340 567      1 762   833      △    394 421\n",
              "74       18  30    918 400  1 362 470      1 748   801      △    444 070\n",
              "75     19  令和元年    865 239  1 381 093      1 654   755      △    515 854\n",
              "76     2020   2    840 835  1 372 755      1 512   704      △   5 31 920\n",
              "\n",
              "[77 rows x 6 columns]"
            ]
          },
          "metadata": {},
          "execution_count": 78
        }
      ]
    },
    {
      "cell_type": "code",
      "metadata": {
        "colab": {
          "base_uri": "https://localhost:8080/",
          "height": 419
        },
        "id": "VFLR-37N777a",
        "outputId": "53510765-bee0-4000-fafe-1eb5d8e7c839"
      },
      "source": [
        "dfs[0]\n",
        "#dfs[0].set_index(\"年 次\")"
      ],
      "execution_count": 79,
      "outputs": [
        {
          "output_type": "execute_result",
          "data": {
            "text/html": [
              "<div>\n",
              "<style scoped>\n",
              "    .dataframe tbody tr th:only-of-type {\n",
              "        vertical-align: middle;\n",
              "    }\n",
              "\n",
              "    .dataframe tbody tr th {\n",
              "        vertical-align: top;\n",
              "    }\n",
              "\n",
              "    .dataframe thead th {\n",
              "        text-align: right;\n",
              "    }\n",
              "</style>\n",
              "<table border=\"1\" class=\"dataframe\">\n",
              "  <thead>\n",
              "    <tr style=\"text-align: right;\">\n",
              "      <th></th>\n",
              "      <th>年 次</th>\n",
              "      <th>出 生 数</th>\n",
              "      <th>死 亡 数</th>\n",
              "      <th>乳児死亡数</th>\n",
              "      <th>新生児死亡数</th>\n",
              "      <th>自然増減数</th>\n",
              "    </tr>\n",
              "  </thead>\n",
              "  <tbody>\n",
              "    <tr>\n",
              "      <th>0</th>\n",
              "      <td>1)</td>\n",
              "      <td>NaN</td>\n",
              "      <td>NaN</td>\n",
              "      <td>NaN</td>\n",
              "      <td>NaN</td>\n",
              "      <td>NaN</td>\n",
              "    </tr>\n",
              "    <tr>\n",
              "      <th>1</th>\n",
              "      <td>年  次</td>\n",
              "      <td>出 生 数</td>\n",
              "      <td>死 亡 数</td>\n",
              "      <td>NaN</td>\n",
              "      <td>NaN</td>\n",
              "      <td>自然増減数</td>\n",
              "    </tr>\n",
              "    <tr>\n",
              "      <th>2</th>\n",
              "      <td>NaN</td>\n",
              "      <td>NaN</td>\n",
              "      <td>NaN</td>\n",
              "      <td>乳児死亡数 新生児死亡数</td>\n",
              "      <td>NaN</td>\n",
              "      <td>NaN</td>\n",
              "    </tr>\n",
              "    <tr>\n",
              "      <th>3</th>\n",
              "      <td>1947  昭和22年</td>\n",
              "      <td>2 678 792</td>\n",
              "      <td>1 138 238</td>\n",
              "      <td>205 360  84 204</td>\n",
              "      <td>NaN</td>\n",
              "      <td>1 540 554</td>\n",
              "    </tr>\n",
              "    <tr>\n",
              "      <th>4</th>\n",
              "      <td>48 23</td>\n",
              "      <td>2 681 624</td>\n",
              "      <td>950 610</td>\n",
              "      <td>165 406  73 855</td>\n",
              "      <td>NaN</td>\n",
              "      <td>1 731 014</td>\n",
              "    </tr>\n",
              "    <tr>\n",
              "      <th>...</th>\n",
              "      <td>...</td>\n",
              "      <td>...</td>\n",
              "      <td>...</td>\n",
              "      <td>...</td>\n",
              "      <td>...</td>\n",
              "      <td>...</td>\n",
              "    </tr>\n",
              "    <tr>\n",
              "      <th>72</th>\n",
              "      <td>16  28</td>\n",
              "      <td>977 242</td>\n",
              "      <td>1 308 158</td>\n",
              "      <td>1 929   875</td>\n",
              "      <td>△</td>\n",
              "      <td>330 916</td>\n",
              "    </tr>\n",
              "    <tr>\n",
              "      <th>73</th>\n",
              "      <td>17  29</td>\n",
              "      <td>946 146</td>\n",
              "      <td>1 340 567</td>\n",
              "      <td>1 762   833</td>\n",
              "      <td>△</td>\n",
              "      <td>394 421</td>\n",
              "    </tr>\n",
              "    <tr>\n",
              "      <th>74</th>\n",
              "      <td>18  30</td>\n",
              "      <td>918 400</td>\n",
              "      <td>1 362 470</td>\n",
              "      <td>1 748   801</td>\n",
              "      <td>△</td>\n",
              "      <td>444 070</td>\n",
              "    </tr>\n",
              "    <tr>\n",
              "      <th>75</th>\n",
              "      <td>19  令和元年</td>\n",
              "      <td>865 239</td>\n",
              "      <td>1 381 093</td>\n",
              "      <td>1 654   755</td>\n",
              "      <td>△</td>\n",
              "      <td>515 854</td>\n",
              "    </tr>\n",
              "    <tr>\n",
              "      <th>76</th>\n",
              "      <td>2020   2</td>\n",
              "      <td>840 835</td>\n",
              "      <td>1 372 755</td>\n",
              "      <td>1 512   704</td>\n",
              "      <td>△</td>\n",
              "      <td>5 31 920</td>\n",
              "    </tr>\n",
              "  </tbody>\n",
              "</table>\n",
              "<p>77 rows × 6 columns</p>\n",
              "</div>"
            ],
            "text/plain": [
              "            年 次      出 生 数      死 亡 数            乳児死亡数 新生児死亡数      自然増減数\n",
              "0            1)        NaN        NaN              NaN    NaN        NaN\n",
              "1          年  次      出 生 数      死 亡 数              NaN    NaN      自然増減数\n",
              "2           NaN        NaN        NaN     乳児死亡数 新生児死亡数    NaN        NaN\n",
              "3   1947  昭和22年  2 678 792  1 138 238  205 360  84 204    NaN  1 540 554\n",
              "4         48 23  2 681 624    950 610  165 406  73 855    NaN  1 731 014\n",
              "..          ...        ...        ...              ...    ...        ...\n",
              "72       16  28    977 242  1 308 158      1 929   875      △    330 916\n",
              "73       17  29    946 146  1 340 567      1 762   833      △    394 421\n",
              "74       18  30    918 400  1 362 470      1 748   801      △    444 070\n",
              "75     19  令和元年    865 239  1 381 093      1 654   755      △    515 854\n",
              "76     2020   2    840 835  1 372 755      1 512   704      △   5 31 920\n",
              "\n",
              "[77 rows x 6 columns]"
            ]
          },
          "metadata": {},
          "execution_count": 79
        }
      ]
    },
    {
      "cell_type": "code",
      "metadata": {
        "id": "V2wW1umIuwlc"
      },
      "source": [
        "dfs[0].to_excel(\"04_h2-1.xlsx\",sheet_name='new_sheet')"
      ],
      "execution_count": 80,
      "outputs": []
    }
  ]
}