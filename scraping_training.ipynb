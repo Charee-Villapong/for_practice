{
 "cells": [
  {
   "cell_type": "code",
   "execution_count": 30,
   "metadata": {},
   "outputs": [],
   "source": [
    "import requests\n",
    "from bs4 import BeautifulSoup\n",
    "from time import sleep\n",
    "import pandas as pd"
   ]
  },
  {
   "cell_type": "code",
   "execution_count": 31,
   "metadata": {},
   "outputs": [],
   "source": [
    "url = \"https://suumo.jp/chintai/tokyo/sc_shinjuku/?page={}\"\n",
    "target_url = url.format(1)\n",
    "r = requests.get(target_url).text"
   ]
  },
  {
   "cell_type": "code",
   "execution_count": 32,
   "metadata": {},
   "outputs": [
    {
     "name": "stdout",
     "output_type": "stream",
     "text": [
      "https://suumo.jp/chintai/tokyo/sc_shinjuku/?page=1\n"
     ]
    }
   ],
   "source": [
    "print(target_url)"
   ]
  },
  {
   "cell_type": "code",
   "execution_count": 33,
   "metadata": {},
   "outputs": [],
   "source": [
    "soup = BeautifulSoup(r)\n",
    "#soup.text.replace(\"\\n\",\"\").replace(\"\\t\",\"\").replace(\"\\xa0\",\"\").replace(\"\\r\",\"\")"
   ]
  },
  {
   "cell_type": "code",
   "execution_count": 34,
   "metadata": {},
   "outputs": [],
   "source": [
    "contents = soup.find_all(\"div\",class_=\"cassetteitem\")"
   ]
  },
  {
   "cell_type": "code",
   "execution_count": 35,
   "metadata": {},
   "outputs": [],
   "source": [
    "#detail = content.find(class_=\"cassetteitem-detail\")\n",
    "#table = content.find(class_=\"cassetteitem_other\")"
   ]
  },
  {
   "cell_type": "code",
   "execution_count": 36,
   "metadata": {},
   "outputs": [
    {
     "data": {
      "text/plain": [
       "20"
      ]
     },
     "execution_count": 36,
     "metadata": {},
     "output_type": "execute_result"
    }
   ],
   "source": [
    "len(contents)"
   ]
  },
  {
   "cell_type": "code",
   "execution_count": 37,
   "metadata": {},
   "outputs": [
    {
     "name": "stdout",
     "output_type": "stream",
     "text": [
      "{'access': '東京メトロ南北線/市ケ谷駅 歩15分東京メトロ東西線/神楽坂駅 歩10分都営大江戸線/牛込柳町駅 歩5分',\n",
      " 'address': '東京都新宿区南山伏町',\n",
      " 'age': '新築地下1地上13階建',\n",
      " 'area': '40.01m2',\n",
      " 'fee': '19.9万円',\n",
      " 'floor': '2階',\n",
      " 'gratuity': '-',\n",
      " 'management_fee': '12000円',\n",
      " 'room_type': '1LDK',\n",
      " 'title': '東京メトロ南北線 市ケ谷駅 地下1地上13階建 新築'}\n",
      "\n",
      "{'access': '都営大江戸線/牛込柳町駅 歩5分東京メトロ東西線/神楽坂駅 歩10分東京メトロ南北線/市ケ谷駅 歩15分',\n",
      " 'address': '東京都新宿区北山伏町',\n",
      " 'age': '築4年10階建',\n",
      " 'area': '25.28m2',\n",
      " 'fee': '10.4万円',\n",
      " 'floor': '2階',\n",
      " 'gratuity': '10.4万円',\n",
      " 'management_fee': '8000円',\n",
      " 'room_type': '1K',\n",
      " 'title': 'オーギュメント牛込神楽坂'}\n"
     ]
    }
   ],
   "source": [
    "from pprint import pprint\n",
    "pprint(d_list[0])\n",
    "print()\n",
    "pprint(d_list[3])"
   ]
  },
  {
   "cell_type": "code",
   "execution_count": 38,
   "metadata": {},
   "outputs": [
    {
     "name": "stdout",
     "output_type": "stream",
     "text": [
      "0\n",
      "20\n",
      "40\n"
     ]
    }
   ],
   "source": [
    "d_list = []\n",
    "\n",
    "for i in range(1,4):\n",
    "    print(len(d_list))\n",
    "    target_url = url.format(i)\n",
    "    r = requests.get(target_url).text\n",
    "    sleep(1)\n",
    "    soup = BeautifulSoup(r)\n",
    "    contents = soup.find_all(\"div\",class_=\"cassetteitem\")\n",
    "    for content in contents:\n",
    "        detail = content.find(class_=\"cassetteitem-detail\")\n",
    "        table = content.find(class_=\"cassetteitem_other\")\n",
    "        title = detail.find(\"div\",class_=\"cassetteitem_content-title\").text\n",
    "        address = detail.find(\"li\",class_=\"cassetteitem_detail-col1\").text\n",
    "        access = detail.find(\"li\",class_=\"cassetteitem_detail-col2\").text\n",
    "        age = detail.find(\"li\",class_ = \"cassetteitem_detail-col3\").text\n",
    "        tr_tags = content.find_all(\"tr\", class_=\"js-cassette_link\")\n",
    "        for tr_tag in tr_tags:\n",
    "            floor,price,first_fee,capacity = tr_tags[0].find_all(\"td\")[2:6]\n",
    "            fee,management_fee = price.find_all(\"li\")\n",
    "            deposite,gratuity = first_fee.find_all(\"li\")\n",
    "            room_type,area = capacity.find_all(\"li\")\n",
    "            d = {\n",
    "                \"title\":title,\n",
    "                \"address\":address.replace(\"\\n\",\"\"),\n",
    "                \"access\":access.replace(\"\\n\",\"\"),\n",
    "                \"age\":age.replace(\"\\n\",\"\"),\n",
    "                \"floor\":floor.text.replace(\"\\n\",\"\").replace(\"\\t\",\"\").replace(\"\\r\",\"\"),\n",
    "                \"fee\":fee.text,\n",
    "                \"management_fee\":management_fee.text,\n",
    "                \"gratuity\":gratuity.text,\n",
    "                \"room_type\":room_type.text,\n",
    "                \"area\":area.text\n",
    "            }\n",
    "\n",
    "        d_list.append(d)"
   ]
  },
  {
   "cell_type": "code",
   "execution_count": 39,
   "metadata": {},
   "outputs": [
    {
     "data": {
      "text/html": [
       "<div>\n",
       "<style scoped>\n",
       "    .dataframe tbody tr th:only-of-type {\n",
       "        vertical-align: middle;\n",
       "    }\n",
       "\n",
       "    .dataframe tbody tr th {\n",
       "        vertical-align: top;\n",
       "    }\n",
       "\n",
       "    .dataframe thead th {\n",
       "        text-align: right;\n",
       "    }\n",
       "</style>\n",
       "<table border=\"1\" class=\"dataframe\">\n",
       "  <thead>\n",
       "    <tr style=\"text-align: right;\">\n",
       "      <th></th>\n",
       "      <th>title</th>\n",
       "      <th>address</th>\n",
       "      <th>access</th>\n",
       "      <th>age</th>\n",
       "      <th>floor</th>\n",
       "      <th>fee</th>\n",
       "      <th>management_fee</th>\n",
       "      <th>gratuity</th>\n",
       "      <th>room_type</th>\n",
       "      <th>area</th>\n",
       "    </tr>\n",
       "  </thead>\n",
       "  <tbody>\n",
       "    <tr>\n",
       "      <th>0</th>\n",
       "      <td>東京メトロ南北線 市ケ谷駅 地下1地上13階建 新築</td>\n",
       "      <td>東京都新宿区南山伏町</td>\n",
       "      <td>東京メトロ南北線/市ケ谷駅 歩15分東京メトロ東西線/神楽坂駅 歩10分都営大江戸線/牛込柳...</td>\n",
       "      <td>新築地下1地上13階建</td>\n",
       "      <td>2階</td>\n",
       "      <td>19.9万円</td>\n",
       "      <td>12000円</td>\n",
       "      <td>-</td>\n",
       "      <td>1LDK</td>\n",
       "      <td>40.01m2</td>\n",
       "    </tr>\n",
       "    <tr>\n",
       "      <th>1</th>\n",
       "      <td>ザ・パークハウス山吹神楽坂</td>\n",
       "      <td>東京都新宿区山吹町</td>\n",
       "      <td>東京メトロ有楽町線/江戸川橋駅 歩4分東京メトロ東西線/神楽坂駅 歩6分東京メトロ東西線/早...</td>\n",
       "      <td>築5年13階建</td>\n",
       "      <td>3階</td>\n",
       "      <td>30万円</td>\n",
       "      <td>-</td>\n",
       "      <td>30万円</td>\n",
       "      <td>3LDK</td>\n",
       "      <td>71m2</td>\n",
       "    </tr>\n",
       "    <tr>\n",
       "      <th>2</th>\n",
       "      <td>都営大江戸線 牛込柳町駅 地下1地上5階建 築13年</td>\n",
       "      <td>東京都新宿区弁天町</td>\n",
       "      <td>都営大江戸線/牛込柳町駅 歩5分東京メトロ東西線/早稲田駅 歩8分</td>\n",
       "      <td>築13年地下1地上5階建</td>\n",
       "      <td>3階</td>\n",
       "      <td>10.8万円</td>\n",
       "      <td>10000円</td>\n",
       "      <td>-</td>\n",
       "      <td>ワンルーム</td>\n",
       "      <td>29.28m2</td>\n",
       "    </tr>\n",
       "    <tr>\n",
       "      <th>3</th>\n",
       "      <td>オーギュメント牛込神楽坂</td>\n",
       "      <td>東京都新宿区北山伏町</td>\n",
       "      <td>都営大江戸線/牛込柳町駅 歩5分東京メトロ東西線/神楽坂駅 歩10分東京メトロ南北線/市ケ谷...</td>\n",
       "      <td>築4年10階建</td>\n",
       "      <td>2階</td>\n",
       "      <td>10.4万円</td>\n",
       "      <td>8000円</td>\n",
       "      <td>10.4万円</td>\n",
       "      <td>1K</td>\n",
       "      <td>25.28m2</td>\n",
       "    </tr>\n",
       "    <tr>\n",
       "      <th>4</th>\n",
       "      <td>ザ・パークハウス西新宿タワー６０</td>\n",
       "      <td>東京都新宿区西新宿５</td>\n",
       "      <td>都営大江戸線/西新宿五丁目駅 歩7分東京メトロ丸ノ内線/西新宿駅 歩9分都営大江戸線/都庁前...</td>\n",
       "      <td>築5年地下2地上60階建</td>\n",
       "      <td>39階</td>\n",
       "      <td>18.6万円</td>\n",
       "      <td>12000円</td>\n",
       "      <td>18.6万円</td>\n",
       "      <td>1LDK</td>\n",
       "      <td>35.66m2</td>\n",
       "    </tr>\n",
       "  </tbody>\n",
       "</table>\n",
       "</div>"
      ],
      "text/plain": [
       "                        title     address  \\\n",
       "0  東京メトロ南北線 市ケ谷駅 地下1地上13階建 新築  東京都新宿区南山伏町   \n",
       "1               ザ・パークハウス山吹神楽坂   東京都新宿区山吹町   \n",
       "2  都営大江戸線 牛込柳町駅 地下1地上5階建 築13年   東京都新宿区弁天町   \n",
       "3                オーギュメント牛込神楽坂  東京都新宿区北山伏町   \n",
       "4            ザ・パークハウス西新宿タワー６０  東京都新宿区西新宿５   \n",
       "\n",
       "                                              access           age floor  \\\n",
       "0  東京メトロ南北線/市ケ谷駅 歩15分東京メトロ東西線/神楽坂駅 歩10分都営大江戸線/牛込柳...   新築地下1地上13階建    2階   \n",
       "1  東京メトロ有楽町線/江戸川橋駅 歩4分東京メトロ東西線/神楽坂駅 歩6分東京メトロ東西線/早...       築5年13階建    3階   \n",
       "2                  都営大江戸線/牛込柳町駅 歩5分東京メトロ東西線/早稲田駅 歩8分  築13年地下1地上5階建    3階   \n",
       "3  都営大江戸線/牛込柳町駅 歩5分東京メトロ東西線/神楽坂駅 歩10分東京メトロ南北線/市ケ谷...       築4年10階建    2階   \n",
       "4  都営大江戸線/西新宿五丁目駅 歩7分東京メトロ丸ノ内線/西新宿駅 歩9分都営大江戸線/都庁前...  築5年地下2地上60階建   39階   \n",
       "\n",
       "      fee management_fee gratuity room_type     area  \n",
       "0  19.9万円         12000円        -      1LDK  40.01m2  \n",
       "1    30万円              -     30万円      3LDK     71m2  \n",
       "2  10.8万円         10000円        -     ワンルーム  29.28m2  \n",
       "3  10.4万円          8000円   10.4万円        1K  25.28m2  \n",
       "4  18.6万円         12000円   18.6万円      1LDK  35.66m2  "
      ]
     },
     "execution_count": 39,
     "metadata": {},
     "output_type": "execute_result"
    }
   ],
   "source": [
    "df = pd.DataFrame(d_list)\n",
    "df.head()"
   ]
  },
  {
   "cell_type": "code",
   "execution_count": 40,
   "metadata": {},
   "outputs": [
    {
     "data": {
      "text/plain": [
       "(60, 10)"
      ]
     },
     "execution_count": 40,
     "metadata": {},
     "output_type": "execute_result"
    }
   ],
   "source": [
    "df.shape"
   ]
  },
  {
   "cell_type": "code",
   "execution_count": 41,
   "metadata": {},
   "outputs": [],
   "source": [
    "df.to_csv(\"asset_data.csv\",index=None,encoding=\"UTF-8\")"
   ]
  },
  {
   "cell_type": "code",
   "execution_count": 42,
   "metadata": {},
   "outputs": [
    {
     "data": {
      "text/plain": [
       "'東京都新宿区新宿５'"
      ]
     },
     "execution_count": 42,
     "metadata": {},
     "output_type": "execute_result"
    }
   ],
   "source": [
    "address"
   ]
  },
  {
   "cell_type": "code",
   "execution_count": null,
   "metadata": {},
   "outputs": [],
   "source": []
  }
 ],
 "metadata": {
  "interpreter": {
   "hash": "31f2aee4e71d21fbe5cf8b01ff0e069b9275f58929596ceb00d14d90e3e16cd6"
  },
  "kernelspec": {
   "display_name": "Python 3 (ipykernel)",
   "language": "python",
   "name": "python3"
  },
  "language_info": {
   "codemirror_mode": {
    "name": "ipython",
    "version": 3
   },
   "file_extension": ".py",
   "mimetype": "text/x-python",
   "name": "python",
   "nbconvert_exporter": "python",
   "pygments_lexer": "ipython3",
   "version": "3.8.2"
  }
 },
 "nbformat": 4,
 "nbformat_minor": 4
}
